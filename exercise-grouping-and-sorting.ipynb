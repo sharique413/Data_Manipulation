{
 "cells": [
  {
   "cell_type": "markdown",
   "id": "referenced-adams",
   "metadata": {
    "papermill": {
     "duration": 0.018723,
     "end_time": "2021-05-23T05:23:23.813352",
     "exception": false,
     "start_time": "2021-05-23T05:23:23.794629",
     "status": "completed"
    },
    "tags": []
   },
   "source": [
    "**This notebook is an exercise in the [Pandas](https://www.kaggle.com/learn/pandas) course.  You can reference the tutorial at [this link](https://www.kaggle.com/residentmario/grouping-and-sorting).**\n",
    "\n",
    "---\n"
   ]
  },
  {
   "cell_type": "markdown",
   "id": "permanent-employee",
   "metadata": {
    "papermill": {
     "duration": 0.017095,
     "end_time": "2021-05-23T05:23:23.848096",
     "exception": false,
     "start_time": "2021-05-23T05:23:23.831001",
     "status": "completed"
    },
    "tags": []
   },
   "source": [
    "# Introduction\n",
    "\n",
    "In these exercises we'll apply groupwise analysis to our dataset.\n",
    "\n",
    "Run the code cell below to load the data before running the exercises."
   ]
  },
  {
   "cell_type": "code",
   "execution_count": 1,
   "id": "particular-determination",
   "metadata": {
    "execution": {
     "iopub.execute_input": "2021-05-23T05:23:23.886739Z",
     "iopub.status.busy": "2021-05-23T05:23:23.886160Z",
     "iopub.status.idle": "2021-05-23T05:23:26.694061Z",
     "shell.execute_reply": "2021-05-23T05:23:26.693373Z",
     "shell.execute_reply.started": "2021-05-21T03:58:13.780866Z"
    },
    "papermill": {
     "duration": 2.828673,
     "end_time": "2021-05-23T05:23:26.694217",
     "exception": false,
     "start_time": "2021-05-23T05:23:23.865544",
     "status": "completed"
    },
    "tags": []
   },
   "outputs": [
    {
     "name": "stdout",
     "output_type": "stream",
     "text": [
      "Setup complete.\n"
     ]
    }
   ],
   "source": [
    "import pandas as pd\n",
    "\n",
    "reviews = pd.read_csv(\"../input/wine-reviews/winemag-data-130k-v2.csv\", index_col=0)\n",
    "#pd.set_option(\"display.max_rows\", 5)\n",
    "\n",
    "from learntools.core import binder; binder.bind(globals())\n",
    "from learntools.pandas.grouping_and_sorting import *\n",
    "print(\"Setup complete.\")"
   ]
  },
  {
   "cell_type": "markdown",
   "id": "quantitative-spanish",
   "metadata": {
    "papermill": {
     "duration": 0.017498,
     "end_time": "2021-05-23T05:23:26.730113",
     "exception": false,
     "start_time": "2021-05-23T05:23:26.712615",
     "status": "completed"
    },
    "tags": []
   },
   "source": [
    "# Exercises"
   ]
  },
  {
   "cell_type": "markdown",
   "id": "sunset-acrylic",
   "metadata": {
    "papermill": {
     "duration": 0.017541,
     "end_time": "2021-05-23T05:23:26.765420",
     "exception": false,
     "start_time": "2021-05-23T05:23:26.747879",
     "status": "completed"
    },
    "tags": []
   },
   "source": [
    "## 1.\n",
    "Who are the most common wine reviewers in the dataset? Create a `Series` whose index is the `taster_twitter_handle` category from the dataset, and whose values count how many reviews each person wrote."
   ]
  },
  {
   "cell_type": "code",
   "execution_count": 2,
   "id": "prerequisite-fellow",
   "metadata": {
    "execution": {
     "iopub.execute_input": "2021-05-23T05:23:26.823479Z",
     "iopub.status.busy": "2021-05-23T05:23:26.822372Z",
     "iopub.status.idle": "2021-05-23T05:23:26.833632Z",
     "shell.execute_reply": "2021-05-23T05:23:26.834122Z",
     "shell.execute_reply.started": "2021-05-21T04:00:03.07083Z"
    },
    "papermill": {
     "duration": 0.049002,
     "end_time": "2021-05-23T05:23:26.834301",
     "exception": false,
     "start_time": "2021-05-23T05:23:26.785299",
     "status": "completed"
    },
    "tags": []
   },
   "outputs": [
    {
     "data": {
      "application/javascript": [
       "parent.postMessage({\"jupyterEvent\": \"custom.exercise_interaction\", \"data\": {\"outcomeType\": 1, \"valueTowardsCompletion\": 0.16666666666666666, \"interactionType\": 1, \"questionType\": 1, \"questionId\": \"1_ReviewsWritten\", \"learnToolsVersion\": \"0.3.4\", \"failureMessage\": \"\", \"exceptionClass\": \"\", \"trace\": \"\"}}, \"*\")"
      ],
      "text/plain": [
       "<IPython.core.display.Javascript object>"
      ]
     },
     "metadata": {},
     "output_type": "display_data"
    },
    {
     "data": {
      "text/markdown": [
       "<span style=\"color:#33cc33\">Correct:</span> \n",
       "\n",
       "\n",
       "```python\n",
       "reviews_written = reviews.groupby('taster_twitter_handle').size()\n",
       "```\n",
       "or\n",
       "```python\n",
       "reviews_written = reviews.groupby('taster_twitter_handle').taster_twitter_handle.count()\n",
       "```\n"
      ],
      "text/plain": [
       "Correct: \n",
       "\n",
       "\n",
       "```python\n",
       "reviews_written = reviews.groupby('taster_twitter_handle').size()\n",
       "```\n",
       "or\n",
       "```python\n",
       "reviews_written = reviews.groupby('taster_twitter_handle').taster_twitter_handle.count()\n",
       "```"
      ]
     },
     "metadata": {},
     "output_type": "display_data"
    }
   ],
   "source": [
    "# Your code here\n",
    "reviews_written = reviews.groupby('taster_twitter_handle').size()\n",
    "\n",
    "# Check your answer\n",
    "q1.check()"
   ]
  },
  {
   "cell_type": "code",
   "execution_count": 3,
   "id": "resident-spirituality",
   "metadata": {
    "execution": {
     "iopub.execute_input": "2021-05-23T05:23:26.877503Z",
     "iopub.status.busy": "2021-05-23T05:23:26.876548Z",
     "iopub.status.idle": "2021-05-23T05:23:26.880008Z",
     "shell.execute_reply": "2021-05-23T05:23:26.879453Z",
     "shell.execute_reply.started": "2021-05-21T04:00:12.867241Z"
    },
    "papermill": {
     "duration": 0.026396,
     "end_time": "2021-05-23T05:23:26.880152",
     "exception": false,
     "start_time": "2021-05-23T05:23:26.853756",
     "status": "completed"
    },
    "tags": []
   },
   "outputs": [],
   "source": [
    "#q1.hint()\n",
    "#q1.solution()"
   ]
  },
  {
   "cell_type": "markdown",
   "id": "impressed-crisis",
   "metadata": {
    "papermill": {
     "duration": 0.018684,
     "end_time": "2021-05-23T05:23:26.918040",
     "exception": false,
     "start_time": "2021-05-23T05:23:26.899356",
     "status": "completed"
    },
    "tags": []
   },
   "source": [
    "## 2.\n",
    "What is the best wine I can buy for a given amount of money? Create a `Series` whose index is wine prices and whose values is the maximum number of points a wine costing that much was given in a review. Sort the values by price, ascending (so that `4.0` dollars is at the top and `3300.0` dollars is at the bottom)."
   ]
  },
  {
   "cell_type": "code",
   "execution_count": 4,
   "id": "selective-november",
   "metadata": {
    "execution": {
     "iopub.execute_input": "2021-05-23T05:23:26.962534Z",
     "iopub.status.busy": "2021-05-23T05:23:26.961533Z",
     "iopub.status.idle": "2021-05-23T05:23:26.972549Z",
     "shell.execute_reply": "2021-05-23T05:23:26.972017Z",
     "shell.execute_reply.started": "2021-05-21T04:02:46.632401Z"
    },
    "papermill": {
     "duration": 0.035278,
     "end_time": "2021-05-23T05:23:26.972688",
     "exception": false,
     "start_time": "2021-05-23T05:23:26.937410",
     "status": "completed"
    },
    "tags": []
   },
   "outputs": [
    {
     "data": {
      "application/javascript": [
       "parent.postMessage({\"jupyterEvent\": \"custom.exercise_interaction\", \"data\": {\"outcomeType\": 1, \"valueTowardsCompletion\": 0.16666666666666666, \"interactionType\": 1, \"questionType\": 1, \"questionId\": \"2_BestRatingPerPrice\", \"learnToolsVersion\": \"0.3.4\", \"failureMessage\": \"\", \"exceptionClass\": \"\", \"trace\": \"\"}}, \"*\")"
      ],
      "text/plain": [
       "<IPython.core.display.Javascript object>"
      ]
     },
     "metadata": {},
     "output_type": "display_data"
    },
    {
     "data": {
      "text/markdown": [
       "<span style=\"color:#33cc33\">Correct</span>"
      ],
      "text/plain": [
       "Correct"
      ]
     },
     "metadata": {},
     "output_type": "display_data"
    }
   ],
   "source": [
    "best_rating_per_price = reviews.groupby('price')['points'].max().sort_index()\n",
    "\n",
    "# Check your answer\n",
    "q2.check()"
   ]
  },
  {
   "cell_type": "code",
   "execution_count": 5,
   "id": "infrared-roulette",
   "metadata": {
    "execution": {
     "iopub.execute_input": "2021-05-23T05:23:27.016494Z",
     "iopub.status.busy": "2021-05-23T05:23:27.015843Z",
     "iopub.status.idle": "2021-05-23T05:23:27.019961Z",
     "shell.execute_reply": "2021-05-23T05:23:27.019309Z",
     "shell.execute_reply.started": "2021-05-21T04:02:53.080771Z"
    },
    "papermill": {
     "duration": 0.027423,
     "end_time": "2021-05-23T05:23:27.020099",
     "exception": false,
     "start_time": "2021-05-23T05:23:26.992676",
     "status": "completed"
    },
    "tags": []
   },
   "outputs": [],
   "source": [
    "#q2.hint()\n",
    "#q2.solution()"
   ]
  },
  {
   "cell_type": "markdown",
   "id": "bronze-syria",
   "metadata": {
    "papermill": {
     "duration": 0.019928,
     "end_time": "2021-05-23T05:23:27.060379",
     "exception": false,
     "start_time": "2021-05-23T05:23:27.040451",
     "status": "completed"
    },
    "tags": []
   },
   "source": [
    "## 3.\n",
    "What are the minimum and maximum prices for each `variety` of wine? Create a `DataFrame` whose index is the `variety` category from the dataset and whose values are the `min` and `max` values thereof."
   ]
  },
  {
   "cell_type": "code",
   "execution_count": 6,
   "id": "synthetic-oregon",
   "metadata": {
    "execution": {
     "iopub.execute_input": "2021-05-23T05:23:27.105971Z",
     "iopub.status.busy": "2021-05-23T05:23:27.105253Z",
     "iopub.status.idle": "2021-05-23T05:23:27.137235Z",
     "shell.execute_reply": "2021-05-23T05:23:27.136628Z",
     "shell.execute_reply.started": "2021-05-21T04:04:25.972723Z"
    },
    "papermill": {
     "duration": 0.056561,
     "end_time": "2021-05-23T05:23:27.137411",
     "exception": false,
     "start_time": "2021-05-23T05:23:27.080850",
     "status": "completed"
    },
    "tags": []
   },
   "outputs": [
    {
     "data": {
      "application/javascript": [
       "parent.postMessage({\"jupyterEvent\": \"custom.exercise_interaction\", \"data\": {\"outcomeType\": 1, \"valueTowardsCompletion\": 0.16666666666666666, \"interactionType\": 1, \"questionType\": 1, \"questionId\": \"3_PriceExtremes\", \"learnToolsVersion\": \"0.3.4\", \"failureMessage\": \"\", \"exceptionClass\": \"\", \"trace\": \"\"}}, \"*\")"
      ],
      "text/plain": [
       "<IPython.core.display.Javascript object>"
      ]
     },
     "metadata": {},
     "output_type": "display_data"
    },
    {
     "data": {
      "text/markdown": [
       "<span style=\"color:#33cc33\">Correct</span>"
      ],
      "text/plain": [
       "Correct"
      ]
     },
     "metadata": {},
     "output_type": "display_data"
    }
   ],
   "source": [
    "price_extremes = reviews.groupby('variety').price.agg([min, max])\n",
    "\n",
    "# Check your answer\n",
    "q3.check()"
   ]
  },
  {
   "cell_type": "code",
   "execution_count": 7,
   "id": "secure-absorption",
   "metadata": {
    "execution": {
     "iopub.execute_input": "2021-05-23T05:23:27.184217Z",
     "iopub.status.busy": "2021-05-23T05:23:27.183299Z",
     "iopub.status.idle": "2021-05-23T05:23:27.186851Z",
     "shell.execute_reply": "2021-05-23T05:23:27.186313Z",
     "shell.execute_reply.started": "2021-05-21T04:04:31.110543Z"
    },
    "papermill": {
     "duration": 0.028408,
     "end_time": "2021-05-23T05:23:27.186987",
     "exception": false,
     "start_time": "2021-05-23T05:23:27.158579",
     "status": "completed"
    },
    "tags": []
   },
   "outputs": [],
   "source": [
    "#q3.hint()\n",
    "#q3.solution()"
   ]
  },
  {
   "cell_type": "markdown",
   "id": "labeled-verse",
   "metadata": {
    "papermill": {
     "duration": 0.020743,
     "end_time": "2021-05-23T05:23:27.228720",
     "exception": false,
     "start_time": "2021-05-23T05:23:27.207977",
     "status": "completed"
    },
    "tags": []
   },
   "source": [
    "## 4.\n",
    "What are the most expensive wine varieties? Create a variable `sorted_varieties` containing a copy of the dataframe from the previous question where varieties are sorted in descending order based on minimum price, then on maximum price (to break ties)."
   ]
  },
  {
   "cell_type": "code",
   "execution_count": 8,
   "id": "raised-princeton",
   "metadata": {
    "execution": {
     "iopub.execute_input": "2021-05-23T05:23:27.276569Z",
     "iopub.status.busy": "2021-05-23T05:23:27.275895Z",
     "iopub.status.idle": "2021-05-23T05:23:27.283813Z",
     "shell.execute_reply": "2021-05-23T05:23:27.283181Z",
     "shell.execute_reply.started": "2021-05-21T04:06:39.61184Z"
    },
    "papermill": {
     "duration": 0.034274,
     "end_time": "2021-05-23T05:23:27.283948",
     "exception": false,
     "start_time": "2021-05-23T05:23:27.249674",
     "status": "completed"
    },
    "tags": []
   },
   "outputs": [
    {
     "data": {
      "application/javascript": [
       "parent.postMessage({\"jupyterEvent\": \"custom.exercise_interaction\", \"data\": {\"outcomeType\": 1, \"valueTowardsCompletion\": 0.16666666666666666, \"interactionType\": 1, \"questionType\": 1, \"questionId\": \"4_SortedVarieties\", \"learnToolsVersion\": \"0.3.4\", \"failureMessage\": \"\", \"exceptionClass\": \"\", \"trace\": \"\"}}, \"*\")"
      ],
      "text/plain": [
       "<IPython.core.display.Javascript object>"
      ]
     },
     "metadata": {},
     "output_type": "display_data"
    },
    {
     "data": {
      "text/markdown": [
       "<span style=\"color:#33cc33\">Correct</span>"
      ],
      "text/plain": [
       "Correct"
      ]
     },
     "metadata": {},
     "output_type": "display_data"
    }
   ],
   "source": [
    "sorted_varieties = price_extremes.sort_values(by=['min', 'max'], ascending= False)\n",
    "\n",
    "# Check your answer\n",
    "q4.check()"
   ]
  },
  {
   "cell_type": "code",
   "execution_count": 9,
   "id": "smart-magic",
   "metadata": {
    "execution": {
     "iopub.execute_input": "2021-05-23T05:23:27.332361Z",
     "iopub.status.busy": "2021-05-23T05:23:27.331605Z",
     "iopub.status.idle": "2021-05-23T05:23:27.334759Z",
     "shell.execute_reply": "2021-05-23T05:23:27.335190Z",
     "shell.execute_reply.started": "2021-05-21T04:06:46.090372Z"
    },
    "papermill": {
     "duration": 0.029565,
     "end_time": "2021-05-23T05:23:27.335398",
     "exception": false,
     "start_time": "2021-05-23T05:23:27.305833",
     "status": "completed"
    },
    "tags": []
   },
   "outputs": [],
   "source": [
    "#q4.hint()\n",
    "#q4.solution()"
   ]
  },
  {
   "cell_type": "markdown",
   "id": "decreased-backup",
   "metadata": {
    "papermill": {
     "duration": 0.025229,
     "end_time": "2021-05-23T05:23:27.382640",
     "exception": false,
     "start_time": "2021-05-23T05:23:27.357411",
     "status": "completed"
    },
    "tags": []
   },
   "source": [
    "## 5.\n",
    "Create a `Series` whose index is reviewers and whose values is the average review score given out by that reviewer. Hint: you will need the `taster_name` and `points` columns."
   ]
  },
  {
   "cell_type": "code",
   "execution_count": 10,
   "id": "fixed-jurisdiction",
   "metadata": {
    "execution": {
     "iopub.execute_input": "2021-05-23T05:23:27.447199Z",
     "iopub.status.busy": "2021-05-23T05:23:27.441859Z",
     "iopub.status.idle": "2021-05-23T05:23:27.469306Z",
     "shell.execute_reply": "2021-05-23T05:23:27.470022Z",
     "shell.execute_reply.started": "2021-05-21T04:11:14.17057Z"
    },
    "papermill": {
     "duration": 0.062939,
     "end_time": "2021-05-23T05:23:27.470202",
     "exception": false,
     "start_time": "2021-05-23T05:23:27.407263",
     "status": "completed"
    },
    "tags": []
   },
   "outputs": [
    {
     "data": {
      "application/javascript": [
       "parent.postMessage({\"jupyterEvent\": \"custom.exercise_interaction\", \"data\": {\"outcomeType\": 1, \"valueTowardsCompletion\": 0.16666666666666666, \"interactionType\": 1, \"questionType\": 1, \"questionId\": \"5_ReviewerMeanRatings\", \"learnToolsVersion\": \"0.3.4\", \"failureMessage\": \"\", \"exceptionClass\": \"\", \"trace\": \"\"}}, \"*\")"
      ],
      "text/plain": [
       "<IPython.core.display.Javascript object>"
      ]
     },
     "metadata": {},
     "output_type": "display_data"
    },
    {
     "data": {
      "text/markdown": [
       "<span style=\"color:#33cc33\">Correct</span>"
      ],
      "text/plain": [
       "Correct"
      ]
     },
     "metadata": {},
     "output_type": "display_data"
    }
   ],
   "source": [
    "reviewer_mean_ratings =reviews.groupby('taster_name').points.mean() \n",
    "\n",
    "# Check your answer\n",
    "q5.check()"
   ]
  },
  {
   "cell_type": "code",
   "execution_count": 11,
   "id": "dirty-excellence",
   "metadata": {
    "execution": {
     "iopub.execute_input": "2021-05-23T05:23:27.522283Z",
     "iopub.status.busy": "2021-05-23T05:23:27.521683Z",
     "iopub.status.idle": "2021-05-23T05:23:27.524728Z",
     "shell.execute_reply": "2021-05-23T05:23:27.525296Z",
     "shell.execute_reply.started": "2021-05-21T04:11:20.552028Z"
    },
    "papermill": {
     "duration": 0.028968,
     "end_time": "2021-05-23T05:23:27.525471",
     "exception": false,
     "start_time": "2021-05-23T05:23:27.496503",
     "status": "completed"
    },
    "tags": []
   },
   "outputs": [],
   "source": [
    "#q5.hint()\n",
    "#q5.solution()"
   ]
  },
  {
   "cell_type": "markdown",
   "id": "actual-burlington",
   "metadata": {
    "papermill": {
     "duration": 0.023096,
     "end_time": "2021-05-23T05:23:27.571678",
     "exception": false,
     "start_time": "2021-05-23T05:23:27.548582",
     "status": "completed"
    },
    "tags": []
   },
   "source": [
    "Are there significant differences in the average scores assigned by the various reviewers? Run the cell below to use the `describe()` method to see a summary of the range of values."
   ]
  },
  {
   "cell_type": "code",
   "execution_count": 12,
   "id": "unlikely-nightlife",
   "metadata": {
    "execution": {
     "iopub.execute_input": "2021-05-23T05:23:27.621470Z",
     "iopub.status.busy": "2021-05-23T05:23:27.620850Z",
     "iopub.status.idle": "2021-05-23T05:23:27.635083Z",
     "shell.execute_reply": "2021-05-23T05:23:27.634465Z",
     "shell.execute_reply.started": "2021-05-21T04:11:24.371431Z"
    },
    "papermill": {
     "duration": 0.040142,
     "end_time": "2021-05-23T05:23:27.635224",
     "exception": false,
     "start_time": "2021-05-23T05:23:27.595082",
     "status": "completed"
    },
    "tags": []
   },
   "outputs": [
    {
     "data": {
      "text/plain": [
       "count    19.000000\n",
       "mean     88.233026\n",
       "std       1.243610\n",
       "min      85.855422\n",
       "25%      87.323501\n",
       "50%      88.536235\n",
       "75%      88.975256\n",
       "max      90.562551\n",
       "Name: points, dtype: float64"
      ]
     },
     "execution_count": 12,
     "metadata": {},
     "output_type": "execute_result"
    }
   ],
   "source": [
    "reviewer_mean_ratings.describe()"
   ]
  },
  {
   "cell_type": "markdown",
   "id": "present-flesh",
   "metadata": {
    "papermill": {
     "duration": 0.02307,
     "end_time": "2021-05-23T05:23:27.682510",
     "exception": false,
     "start_time": "2021-05-23T05:23:27.659440",
     "status": "completed"
    },
    "tags": []
   },
   "source": [
    "## 6.\n",
    "What combination of countries and varieties are most common? Create a `Series` whose index is a `MultiIndex`of `{country, variety}` pairs. For example, a pinot noir produced in the US should map to `{\"US\", \"Pinot Noir\"}`. Sort the values in the `Series` in descending order based on wine count."
   ]
  },
  {
   "cell_type": "code",
   "execution_count": 13,
   "id": "adapted-craps",
   "metadata": {
    "execution": {
     "iopub.execute_input": "2021-05-23T05:23:27.747998Z",
     "iopub.status.busy": "2021-05-23T05:23:27.747308Z",
     "iopub.status.idle": "2021-05-23T05:23:27.776815Z",
     "shell.execute_reply": "2021-05-23T05:23:27.776175Z",
     "shell.execute_reply.started": "2021-05-21T04:14:03.015633Z"
    },
    "papermill": {
     "duration": 0.071281,
     "end_time": "2021-05-23T05:23:27.776951",
     "exception": false,
     "start_time": "2021-05-23T05:23:27.705670",
     "status": "completed"
    },
    "tags": []
   },
   "outputs": [
    {
     "data": {
      "application/javascript": [
       "parent.postMessage({\"jupyterEvent\": \"custom.exercise_interaction\", \"data\": {\"outcomeType\": 1, \"valueTowardsCompletion\": 0.16666666666666666, \"interactionType\": 1, \"questionType\": 1, \"questionId\": \"6_GroupbyCountryVariety\", \"learnToolsVersion\": \"0.3.4\", \"failureMessage\": \"\", \"exceptionClass\": \"\", \"trace\": \"\"}}, \"*\")"
      ],
      "text/plain": [
       "<IPython.core.display.Javascript object>"
      ]
     },
     "metadata": {},
     "output_type": "display_data"
    },
    {
     "data": {
      "text/markdown": [
       "<span style=\"color:#33cc33\">Correct</span>"
      ],
      "text/plain": [
       "Correct"
      ]
     },
     "metadata": {},
     "output_type": "display_data"
    }
   ],
   "source": [
    "country_variety_counts = reviews.groupby(['country', 'variety']).size().sort_values(ascending=False)\n",
    "\n",
    "# Check your answer\n",
    "q6.check()"
   ]
  },
  {
   "cell_type": "code",
   "execution_count": 14,
   "id": "experienced-convertible",
   "metadata": {
    "execution": {
     "iopub.execute_input": "2021-05-23T05:23:27.829914Z",
     "iopub.status.busy": "2021-05-23T05:23:27.829203Z",
     "iopub.status.idle": "2021-05-23T05:23:27.832259Z",
     "shell.execute_reply": "2021-05-23T05:23:27.831671Z",
     "shell.execute_reply.started": "2021-05-21T04:14:10.434633Z"
    },
    "papermill": {
     "duration": 0.031334,
     "end_time": "2021-05-23T05:23:27.832421",
     "exception": false,
     "start_time": "2021-05-23T05:23:27.801087",
     "status": "completed"
    },
    "tags": []
   },
   "outputs": [],
   "source": [
    "#q6.hint()\n",
    "#q6.solution()"
   ]
  },
  {
   "cell_type": "markdown",
   "id": "cleared-leeds",
   "metadata": {
    "papermill": {
     "duration": 0.023805,
     "end_time": "2021-05-23T05:23:27.880482",
     "exception": false,
     "start_time": "2021-05-23T05:23:27.856677",
     "status": "completed"
    },
    "tags": []
   },
   "source": [
    "# Keep going\n",
    "\n",
    "Move on to the [**data types and missing data**](https://www.kaggle.com/residentmario/data-types-and-missing-values)."
   ]
  },
  {
   "cell_type": "markdown",
   "id": "piano-canal",
   "metadata": {
    "papermill": {
     "duration": 0.02379,
     "end_time": "2021-05-23T05:23:27.928393",
     "exception": false,
     "start_time": "2021-05-23T05:23:27.904603",
     "status": "completed"
    },
    "tags": []
   },
   "source": [
    "---\n",
    "\n",
    "\n",
    "\n",
    "\n",
    "*Have questions or comments? Visit the [Learn Discussion forum](https://www.kaggle.com/learn-forum/161299) to chat with other Learners.*"
   ]
  }
 ],
 "metadata": {
  "kernelspec": {
   "display_name": "Python 3",
   "language": "python",
   "name": "python3"
  },
  "language_info": {
   "codemirror_mode": {
    "name": "ipython",
    "version": 3
   },
   "file_extension": ".py",
   "mimetype": "text/x-python",
   "name": "python",
   "nbconvert_exporter": "python",
   "pygments_lexer": "ipython3",
   "version": "3.7.9"
  },
  "papermill": {
   "default_parameters": {},
   "duration": 10.594598,
   "end_time": "2021-05-23T05:23:28.561927",
   "environment_variables": {},
   "exception": null,
   "input_path": "__notebook__.ipynb",
   "output_path": "__notebook__.ipynb",
   "parameters": {},
   "start_time": "2021-05-23T05:23:17.967329",
   "version": "2.3.2"
  }
 },
 "nbformat": 4,
 "nbformat_minor": 5
}
