{
 "cells": [
  {
   "cell_type": "markdown",
   "id": "banner-diana",
   "metadata": {
    "papermill": {
     "duration": 0.0139,
     "end_time": "2021-05-23T05:23:30.536697",
     "exception": false,
     "start_time": "2021-05-23T05:23:30.522797",
     "status": "completed"
    },
    "tags": []
   },
   "source": [
    "**This notebook is an exercise in the [Pandas](https://www.kaggle.com/learn/pandas) course.  You can reference the tutorial at [this link](https://www.kaggle.com/residentmario/data-types-and-missing-values).**\n",
    "\n",
    "---\n"
   ]
  },
  {
   "cell_type": "markdown",
   "id": "fresh-slovak",
   "metadata": {
    "papermill": {
     "duration": 0.012549,
     "end_time": "2021-05-23T05:23:30.562069",
     "exception": false,
     "start_time": "2021-05-23T05:23:30.549520",
     "status": "completed"
    },
    "tags": []
   },
   "source": [
    "# Introduction\n",
    "\n",
    "Run the following cell to load your data and some utility functions."
   ]
  },
  {
   "cell_type": "code",
   "execution_count": 1,
   "id": "acceptable-boxing",
   "metadata": {
    "execution": {
     "iopub.execute_input": "2021-05-23T05:23:30.591131Z",
     "iopub.status.busy": "2021-05-23T05:23:30.590008Z",
     "iopub.status.idle": "2021-05-23T05:23:33.842228Z",
     "shell.execute_reply": "2021-05-23T05:23:33.841545Z",
     "shell.execute_reply.started": "2021-05-21T05:38:04.671498Z"
    },
    "papermill": {
     "duration": 3.267905,
     "end_time": "2021-05-23T05:23:33.842374",
     "exception": false,
     "start_time": "2021-05-23T05:23:30.574469",
     "status": "completed"
    },
    "tags": []
   },
   "outputs": [
    {
     "name": "stdout",
     "output_type": "stream",
     "text": [
      "Setup complete.\n"
     ]
    }
   ],
   "source": [
    "import pandas as pd\n",
    "\n",
    "reviews = pd.read_csv(\"../input/wine-reviews/winemag-data-130k-v2.csv\", index_col=0)\n",
    "\n",
    "from learntools.core import binder; binder.bind(globals())\n",
    "from learntools.pandas.data_types_and_missing_data import *\n",
    "print(\"Setup complete.\")"
   ]
  },
  {
   "cell_type": "markdown",
   "id": "intelligent-intention",
   "metadata": {
    "papermill": {
     "duration": 0.011721,
     "end_time": "2021-05-23T05:23:33.866652",
     "exception": false,
     "start_time": "2021-05-23T05:23:33.854931",
     "status": "completed"
    },
    "tags": []
   },
   "source": [
    "# Exercises"
   ]
  },
  {
   "cell_type": "markdown",
   "id": "economic-string",
   "metadata": {
    "papermill": {
     "duration": 0.012135,
     "end_time": "2021-05-23T05:23:33.891058",
     "exception": false,
     "start_time": "2021-05-23T05:23:33.878923",
     "status": "completed"
    },
    "tags": []
   },
   "source": [
    "## 1. \n",
    "What is the data type of the `points` column in the dataset?"
   ]
  },
  {
   "cell_type": "code",
   "execution_count": 2,
   "id": "increased-lesson",
   "metadata": {
    "execution": {
     "iopub.execute_input": "2021-05-23T05:23:33.923201Z",
     "iopub.status.busy": "2021-05-23T05:23:33.922352Z",
     "iopub.status.idle": "2021-05-23T05:23:33.926171Z",
     "shell.execute_reply": "2021-05-23T05:23:33.926668Z",
     "shell.execute_reply.started": "2021-05-21T05:52:23.093761Z"
    },
    "papermill": {
     "duration": 0.023401,
     "end_time": "2021-05-23T05:23:33.926830",
     "exception": false,
     "start_time": "2021-05-23T05:23:33.903429",
     "status": "completed"
    },
    "tags": []
   },
   "outputs": [
    {
     "data": {
      "application/javascript": [
       "parent.postMessage({\"jupyterEvent\": \"custom.exercise_interaction\", \"data\": {\"outcomeType\": 1, \"valueTowardsCompletion\": 0.25, \"interactionType\": 1, \"questionType\": 1, \"questionId\": \"1_PointsDtype\", \"learnToolsVersion\": \"0.3.4\", \"failureMessage\": \"\", \"exceptionClass\": \"\", \"trace\": \"\"}}, \"*\")"
      ],
      "text/plain": [
       "<IPython.core.display.Javascript object>"
      ]
     },
     "metadata": {},
     "output_type": "display_data"
    },
    {
     "data": {
      "text/markdown": [
       "<span style=\"color:#33cc33\">Correct</span>"
      ],
      "text/plain": [
       "Correct"
      ]
     },
     "metadata": {},
     "output_type": "display_data"
    }
   ],
   "source": [
    "# Your code here\n",
    "dtype = reviews.points.dtype\n",
    "\n",
    "# Check your answer\n",
    "q1.check()"
   ]
  },
  {
   "cell_type": "code",
   "execution_count": 3,
   "id": "atomic-marker",
   "metadata": {
    "execution": {
     "iopub.execute_input": "2021-05-23T05:23:33.957416Z",
     "iopub.status.busy": "2021-05-23T05:23:33.956841Z",
     "iopub.status.idle": "2021-05-23T05:23:33.959821Z",
     "shell.execute_reply": "2021-05-23T05:23:33.960361Z",
     "shell.execute_reply.started": "2021-05-21T05:39:30.371456Z"
    },
    "papermill": {
     "duration": 0.020351,
     "end_time": "2021-05-23T05:23:33.960558",
     "exception": false,
     "start_time": "2021-05-23T05:23:33.940207",
     "status": "completed"
    },
    "tags": []
   },
   "outputs": [],
   "source": [
    "#q1.hint()\n",
    "#q1.solution()"
   ]
  },
  {
   "cell_type": "markdown",
   "id": "turned-mobile",
   "metadata": {
    "papermill": {
     "duration": 0.013624,
     "end_time": "2021-05-23T05:23:33.988144",
     "exception": false,
     "start_time": "2021-05-23T05:23:33.974520",
     "status": "completed"
    },
    "tags": []
   },
   "source": [
    "## 2. \n",
    "Create a Series from entries in the `points` column, but convert the entries to strings. Hint: strings are `str` in native Python."
   ]
  },
  {
   "cell_type": "code",
   "execution_count": 4,
   "id": "hawaiian-regression",
   "metadata": {
    "execution": {
     "iopub.execute_input": "2021-05-23T05:23:34.019322Z",
     "iopub.status.busy": "2021-05-23T05:23:34.018676Z",
     "iopub.status.idle": "2021-05-23T05:23:34.181718Z",
     "shell.execute_reply": "2021-05-23T05:23:34.181219Z",
     "shell.execute_reply.started": "2021-05-21T05:52:29.016797Z"
    },
    "papermill": {
     "duration": 0.179779,
     "end_time": "2021-05-23T05:23:34.181875",
     "exception": false,
     "start_time": "2021-05-23T05:23:34.002096",
     "status": "completed"
    },
    "tags": []
   },
   "outputs": [
    {
     "data": {
      "application/javascript": [
       "parent.postMessage({\"jupyterEvent\": \"custom.exercise_interaction\", \"data\": {\"outcomeType\": 1, \"valueTowardsCompletion\": 0.25, \"interactionType\": 1, \"questionType\": 1, \"questionId\": \"2_StrPoints\", \"learnToolsVersion\": \"0.3.4\", \"failureMessage\": \"\", \"exceptionClass\": \"\", \"trace\": \"\"}}, \"*\")"
      ],
      "text/plain": [
       "<IPython.core.display.Javascript object>"
      ]
     },
     "metadata": {},
     "output_type": "display_data"
    },
    {
     "data": {
      "text/markdown": [
       "<span style=\"color:#33cc33\">Correct</span>"
      ],
      "text/plain": [
       "Correct"
      ]
     },
     "metadata": {},
     "output_type": "display_data"
    }
   ],
   "source": [
    "point_strings =reviews.points.astype(str) \n",
    "\n",
    "# Check your answer\n",
    "q2.check()"
   ]
  },
  {
   "cell_type": "code",
   "execution_count": 5,
   "id": "documentary-plasma",
   "metadata": {
    "execution": {
     "iopub.execute_input": "2021-05-23T05:23:34.214785Z",
     "iopub.status.busy": "2021-05-23T05:23:34.214168Z",
     "iopub.status.idle": "2021-05-23T05:23:34.216969Z",
     "shell.execute_reply": "2021-05-23T05:23:34.216311Z",
     "shell.execute_reply.started": "2021-05-21T05:40:42.273523Z"
    },
    "papermill": {
     "duration": 0.020752,
     "end_time": "2021-05-23T05:23:34.217099",
     "exception": false,
     "start_time": "2021-05-23T05:23:34.196347",
     "status": "completed"
    },
    "tags": []
   },
   "outputs": [],
   "source": [
    "#q2.hint()\n",
    "#q2.solution()"
   ]
  },
  {
   "cell_type": "markdown",
   "id": "armed-roman",
   "metadata": {
    "papermill": {
     "duration": 0.014235,
     "end_time": "2021-05-23T05:23:34.245950",
     "exception": false,
     "start_time": "2021-05-23T05:23:34.231715",
     "status": "completed"
    },
    "tags": []
   },
   "source": [
    "## 3.\n",
    "Sometimes the price column is null. How many reviews in the dataset are missing a price?"
   ]
  },
  {
   "cell_type": "code",
   "execution_count": 6,
   "id": "nutritional-centre",
   "metadata": {
    "execution": {
     "iopub.execute_input": "2021-05-23T05:23:34.283494Z",
     "iopub.status.busy": "2021-05-23T05:23:34.282435Z",
     "iopub.status.idle": "2021-05-23T05:23:34.297901Z",
     "shell.execute_reply": "2021-05-23T05:23:34.298470Z",
     "shell.execute_reply.started": "2021-05-21T05:46:20.800272Z"
    },
    "papermill": {
     "duration": 0.038296,
     "end_time": "2021-05-23T05:23:34.298651",
     "exception": false,
     "start_time": "2021-05-23T05:23:34.260355",
     "status": "completed"
    },
    "tags": []
   },
   "outputs": [
    {
     "data": {
      "application/javascript": [
       "parent.postMessage({\"jupyterEvent\": \"custom.exercise_interaction\", \"data\": {\"outcomeType\": 1, \"valueTowardsCompletion\": 0.25, \"interactionType\": 1, \"questionType\": 1, \"questionId\": \"3_CountMissingPrices\", \"learnToolsVersion\": \"0.3.4\", \"failureMessage\": \"\", \"exceptionClass\": \"\", \"trace\": \"\"}}, \"*\")"
      ],
      "text/plain": [
       "<IPython.core.display.Javascript object>"
      ]
     },
     "metadata": {},
     "output_type": "display_data"
    },
    {
     "data": {
      "text/markdown": [
       "<span style=\"color:#33cc33\">Correct</span>"
      ],
      "text/plain": [
       "Correct"
      ]
     },
     "metadata": {},
     "output_type": "display_data"
    }
   ],
   "source": [
    "missing_price_reviews = reviews[reviews.price.isnull()]\n",
    "n_missing_prices = len(missing_price_reviews)\n",
    "n_missing_prices = reviews.price.isnull().sum()\n",
    "n_missing_prices = pd.isnull(reviews.price).sum()\n",
    "\n",
    "# Check your answer\n",
    "q3.check()"
   ]
  },
  {
   "cell_type": "code",
   "execution_count": 7,
   "id": "sought-hydrogen",
   "metadata": {
    "execution": {
     "iopub.execute_input": "2021-05-23T05:23:34.341329Z",
     "iopub.status.busy": "2021-05-23T05:23:34.340285Z",
     "iopub.status.idle": "2021-05-23T05:23:34.343160Z",
     "shell.execute_reply": "2021-05-23T05:23:34.343700Z",
     "shell.execute_reply.started": "2021-05-21T05:46:27.342513Z"
    },
    "papermill": {
     "duration": 0.029008,
     "end_time": "2021-05-23T05:23:34.343920",
     "exception": false,
     "start_time": "2021-05-23T05:23:34.314912",
     "status": "completed"
    },
    "tags": []
   },
   "outputs": [],
   "source": [
    "#q3.hint()\n",
    "#q3.solution()"
   ]
  },
  {
   "cell_type": "markdown",
   "id": "controversial-occurrence",
   "metadata": {
    "papermill": {
     "duration": 0.020694,
     "end_time": "2021-05-23T05:23:34.384876",
     "exception": false,
     "start_time": "2021-05-23T05:23:34.364182",
     "status": "completed"
    },
    "tags": []
   },
   "source": [
    "## 4.\n",
    "What are the most common wine-producing regions? Create a Series counting the number of times each value occurs in the `region_1` field. This field is often missing data, so replace missing values with `Unknown`. Sort in descending order.  Your output should look something like this:\n",
    "\n",
    "```\n",
    "Unknown                    21247\n",
    "Napa Valley                 4480\n",
    "                           ...  \n",
    "Bardolino Superiore            1\n",
    "Primitivo del Tarantino        1\n",
    "Name: region_1, Length: 1230, dtype: int64\n",
    "```"
   ]
  },
  {
   "cell_type": "code",
   "execution_count": 8,
   "id": "demanding-dressing",
   "metadata": {
    "execution": {
     "iopub.execute_input": "2021-05-23T05:23:34.420980Z",
     "iopub.status.busy": "2021-05-23T05:23:34.420416Z",
     "iopub.status.idle": "2021-05-23T05:23:34.511989Z",
     "shell.execute_reply": "2021-05-23T05:23:34.511380Z",
     "shell.execute_reply.started": "2021-05-21T05:49:22.013365Z"
    },
    "papermill": {
     "duration": 0.109607,
     "end_time": "2021-05-23T05:23:34.512127",
     "exception": false,
     "start_time": "2021-05-23T05:23:34.402520",
     "status": "completed"
    },
    "tags": []
   },
   "outputs": [
    {
     "data": {
      "application/javascript": [
       "parent.postMessage({\"jupyterEvent\": \"custom.exercise_interaction\", \"data\": {\"outcomeType\": 1, \"valueTowardsCompletion\": 0.25, \"interactionType\": 1, \"questionType\": 2, \"questionId\": \"4_ReviewsPerRegion\", \"learnToolsVersion\": \"0.3.4\", \"failureMessage\": \"\", \"exceptionClass\": \"\", \"trace\": \"\"}}, \"*\")"
      ],
      "text/plain": [
       "<IPython.core.display.Javascript object>"
      ]
     },
     "metadata": {},
     "output_type": "display_data"
    },
    {
     "data": {
      "text/markdown": [
       "<span style=\"color:#33cc33\">Correct</span>"
      ],
      "text/plain": [
       "Correct"
      ]
     },
     "metadata": {},
     "output_type": "display_data"
    }
   ],
   "source": [
    "reviews_per_region = reviews.region_1.fillna('Unknown').value_counts().sort_values(ascending=False)\n",
    "\n",
    "# Check your answer\n",
    "q4.check()"
   ]
  },
  {
   "cell_type": "code",
   "execution_count": 9,
   "id": "preliminary-pride",
   "metadata": {
    "execution": {
     "iopub.execute_input": "2021-05-23T05:23:34.550141Z",
     "iopub.status.busy": "2021-05-23T05:23:34.549275Z",
     "iopub.status.idle": "2021-05-23T05:23:34.552530Z",
     "shell.execute_reply": "2021-05-23T05:23:34.552032Z",
     "shell.execute_reply.started": "2021-05-21T05:49:28.217797Z"
    },
    "papermill": {
     "duration": 0.023808,
     "end_time": "2021-05-23T05:23:34.552657",
     "exception": false,
     "start_time": "2021-05-23T05:23:34.528849",
     "status": "completed"
    },
    "tags": []
   },
   "outputs": [],
   "source": [
    "#q4.hint()\n",
    "#q4.solution()"
   ]
  },
  {
   "cell_type": "markdown",
   "id": "furnished-accused",
   "metadata": {
    "papermill": {
     "duration": 0.015975,
     "end_time": "2021-05-23T05:23:34.585289",
     "exception": false,
     "start_time": "2021-05-23T05:23:34.569314",
     "status": "completed"
    },
    "tags": []
   },
   "source": [
    "# Keep going\n",
    "\n",
    "Move on to **[renaming and combining](https://www.kaggle.com/residentmario/renaming-and-combining)**."
   ]
  },
  {
   "cell_type": "markdown",
   "id": "exciting-parks",
   "metadata": {
    "papermill": {
     "duration": 0.016275,
     "end_time": "2021-05-23T05:23:34.618458",
     "exception": false,
     "start_time": "2021-05-23T05:23:34.602183",
     "status": "completed"
    },
    "tags": []
   },
   "source": [
    "---\n",
    "\n",
    "\n",
    "\n",
    "\n",
    "*Have questions or comments? Visit the [Learn Discussion forum](https://www.kaggle.com/learn-forum/161299) to chat with other Learners.*"
   ]
  }
 ],
 "metadata": {
  "kernelspec": {
   "display_name": "Python 3",
   "language": "python",
   "name": "python3"
  },
  "language_info": {
   "codemirror_mode": {
    "name": "ipython",
    "version": 3
   },
   "file_extension": ".py",
   "mimetype": "text/x-python",
   "name": "python",
   "nbconvert_exporter": "python",
   "pygments_lexer": "ipython3",
   "version": "3.7.9"
  },
  "papermill": {
   "default_parameters": {},
   "duration": 10.467295,
   "end_time": "2021-05-23T05:23:35.243458",
   "environment_variables": {},
   "exception": null,
   "input_path": "__notebook__.ipynb",
   "output_path": "__notebook__.ipynb",
   "parameters": {},
   "start_time": "2021-05-23T05:23:24.776163",
   "version": "2.3.2"
  }
 },
 "nbformat": 4,
 "nbformat_minor": 5
}
