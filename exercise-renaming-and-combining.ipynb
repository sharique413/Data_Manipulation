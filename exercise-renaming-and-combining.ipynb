{
 "cells": [
  {
   "cell_type": "markdown",
   "id": "cooked-wealth",
   "metadata": {
    "papermill": {
     "duration": 0.017269,
     "end_time": "2021-05-23T05:23:37.589874",
     "exception": false,
     "start_time": "2021-05-23T05:23:37.572605",
     "status": "completed"
    },
    "tags": []
   },
   "source": [
    "**This notebook is an exercise in the [Pandas](https://www.kaggle.com/learn/pandas) course.  You can reference the tutorial at [this link](https://www.kaggle.com/residentmario/renaming-and-combining).**\n",
    "\n",
    "---\n"
   ]
  },
  {
   "cell_type": "markdown",
   "id": "settled-plate",
   "metadata": {
    "papermill": {
     "duration": 0.015374,
     "end_time": "2021-05-23T05:23:37.621232",
     "exception": false,
     "start_time": "2021-05-23T05:23:37.605858",
     "status": "completed"
    },
    "tags": []
   },
   "source": [
    "# Introduction\n",
    "\n",
    "Run the following cell to load your data and some utility functions."
   ]
  },
  {
   "cell_type": "code",
   "execution_count": 1,
   "id": "interim-engineer",
   "metadata": {
    "execution": {
     "iopub.execute_input": "2021-05-23T05:23:37.657806Z",
     "iopub.status.busy": "2021-05-23T05:23:37.656629Z",
     "iopub.status.idle": "2021-05-23T05:23:41.697031Z",
     "shell.execute_reply": "2021-05-23T05:23:41.697502Z",
     "shell.execute_reply.started": "2021-05-21T05:54:08.30277Z"
    },
    "papermill": {
     "duration": 4.06079,
     "end_time": "2021-05-23T05:23:41.697809",
     "exception": false,
     "start_time": "2021-05-23T05:23:37.637019",
     "status": "completed"
    },
    "tags": []
   },
   "outputs": [
    {
     "name": "stdout",
     "output_type": "stream",
     "text": [
      "Setup complete.\n"
     ]
    }
   ],
   "source": [
    "import pandas as pd\n",
    "\n",
    "reviews = pd.read_csv(\"../input/wine-reviews/winemag-data-130k-v2.csv\", index_col=0)\n",
    "\n",
    "from learntools.core import binder; binder.bind(globals())\n",
    "from learntools.pandas.renaming_and_combining import *\n",
    "print(\"Setup complete.\")"
   ]
  },
  {
   "cell_type": "markdown",
   "id": "olympic-gnome",
   "metadata": {
    "papermill": {
     "duration": 0.015453,
     "end_time": "2021-05-23T05:23:41.729601",
     "exception": false,
     "start_time": "2021-05-23T05:23:41.714148",
     "status": "completed"
    },
    "tags": []
   },
   "source": [
    "# Exercises\n",
    "\n",
    "View the first several lines of your data by running the cell below:"
   ]
  },
  {
   "cell_type": "code",
   "execution_count": 2,
   "id": "wicked-heater",
   "metadata": {
    "execution": {
     "iopub.execute_input": "2021-05-23T05:23:41.768704Z",
     "iopub.status.busy": "2021-05-23T05:23:41.767760Z",
     "iopub.status.idle": "2021-05-23T05:23:41.790528Z",
     "shell.execute_reply": "2021-05-23T05:23:41.791093Z",
     "shell.execute_reply.started": "2021-05-21T05:54:18.752685Z"
    },
    "papermill": {
     "duration": 0.045878,
     "end_time": "2021-05-23T05:23:41.791262",
     "exception": false,
     "start_time": "2021-05-23T05:23:41.745384",
     "status": "completed"
    },
    "tags": []
   },
   "outputs": [
    {
     "data": {
      "text/html": [
       "<div>\n",
       "<style scoped>\n",
       "    .dataframe tbody tr th:only-of-type {\n",
       "        vertical-align: middle;\n",
       "    }\n",
       "\n",
       "    .dataframe tbody tr th {\n",
       "        vertical-align: top;\n",
       "    }\n",
       "\n",
       "    .dataframe thead th {\n",
       "        text-align: right;\n",
       "    }\n",
       "</style>\n",
       "<table border=\"1\" class=\"dataframe\">\n",
       "  <thead>\n",
       "    <tr style=\"text-align: right;\">\n",
       "      <th></th>\n",
       "      <th>country</th>\n",
       "      <th>description</th>\n",
       "      <th>designation</th>\n",
       "      <th>points</th>\n",
       "      <th>price</th>\n",
       "      <th>province</th>\n",
       "      <th>region_1</th>\n",
       "      <th>region_2</th>\n",
       "      <th>taster_name</th>\n",
       "      <th>taster_twitter_handle</th>\n",
       "      <th>title</th>\n",
       "      <th>variety</th>\n",
       "      <th>winery</th>\n",
       "    </tr>\n",
       "  </thead>\n",
       "  <tbody>\n",
       "    <tr>\n",
       "      <th>0</th>\n",
       "      <td>Italy</td>\n",
       "      <td>Aromas include tropical fruit, broom, brimston...</td>\n",
       "      <td>Vulkà Bianco</td>\n",
       "      <td>87</td>\n",
       "      <td>NaN</td>\n",
       "      <td>Sicily &amp; Sardinia</td>\n",
       "      <td>Etna</td>\n",
       "      <td>NaN</td>\n",
       "      <td>Kerin O’Keefe</td>\n",
       "      <td>@kerinokeefe</td>\n",
       "      <td>Nicosia 2013 Vulkà Bianco  (Etna)</td>\n",
       "      <td>White Blend</td>\n",
       "      <td>Nicosia</td>\n",
       "    </tr>\n",
       "    <tr>\n",
       "      <th>1</th>\n",
       "      <td>Portugal</td>\n",
       "      <td>This is ripe and fruity, a wine that is smooth...</td>\n",
       "      <td>Avidagos</td>\n",
       "      <td>87</td>\n",
       "      <td>15.0</td>\n",
       "      <td>Douro</td>\n",
       "      <td>NaN</td>\n",
       "      <td>NaN</td>\n",
       "      <td>Roger Voss</td>\n",
       "      <td>@vossroger</td>\n",
       "      <td>Quinta dos Avidagos 2011 Avidagos Red (Douro)</td>\n",
       "      <td>Portuguese Red</td>\n",
       "      <td>Quinta dos Avidagos</td>\n",
       "    </tr>\n",
       "    <tr>\n",
       "      <th>2</th>\n",
       "      <td>US</td>\n",
       "      <td>Tart and snappy, the flavors of lime flesh and...</td>\n",
       "      <td>NaN</td>\n",
       "      <td>87</td>\n",
       "      <td>14.0</td>\n",
       "      <td>Oregon</td>\n",
       "      <td>Willamette Valley</td>\n",
       "      <td>Willamette Valley</td>\n",
       "      <td>Paul Gregutt</td>\n",
       "      <td>@paulgwine</td>\n",
       "      <td>Rainstorm 2013 Pinot Gris (Willamette Valley)</td>\n",
       "      <td>Pinot Gris</td>\n",
       "      <td>Rainstorm</td>\n",
       "    </tr>\n",
       "    <tr>\n",
       "      <th>3</th>\n",
       "      <td>US</td>\n",
       "      <td>Pineapple rind, lemon pith and orange blossom ...</td>\n",
       "      <td>Reserve Late Harvest</td>\n",
       "      <td>87</td>\n",
       "      <td>13.0</td>\n",
       "      <td>Michigan</td>\n",
       "      <td>Lake Michigan Shore</td>\n",
       "      <td>NaN</td>\n",
       "      <td>Alexander Peartree</td>\n",
       "      <td>NaN</td>\n",
       "      <td>St. Julian 2013 Reserve Late Harvest Riesling ...</td>\n",
       "      <td>Riesling</td>\n",
       "      <td>St. Julian</td>\n",
       "    </tr>\n",
       "    <tr>\n",
       "      <th>4</th>\n",
       "      <td>US</td>\n",
       "      <td>Much like the regular bottling from 2012, this...</td>\n",
       "      <td>Vintner's Reserve Wild Child Block</td>\n",
       "      <td>87</td>\n",
       "      <td>65.0</td>\n",
       "      <td>Oregon</td>\n",
       "      <td>Willamette Valley</td>\n",
       "      <td>Willamette Valley</td>\n",
       "      <td>Paul Gregutt</td>\n",
       "      <td>@paulgwine</td>\n",
       "      <td>Sweet Cheeks 2012 Vintner's Reserve Wild Child...</td>\n",
       "      <td>Pinot Noir</td>\n",
       "      <td>Sweet Cheeks</td>\n",
       "    </tr>\n",
       "  </tbody>\n",
       "</table>\n",
       "</div>"
      ],
      "text/plain": [
       "    country                                        description  \\\n",
       "0     Italy  Aromas include tropical fruit, broom, brimston...   \n",
       "1  Portugal  This is ripe and fruity, a wine that is smooth...   \n",
       "2        US  Tart and snappy, the flavors of lime flesh and...   \n",
       "3        US  Pineapple rind, lemon pith and orange blossom ...   \n",
       "4        US  Much like the regular bottling from 2012, this...   \n",
       "\n",
       "                          designation  points  price           province  \\\n",
       "0                        Vulkà Bianco      87    NaN  Sicily & Sardinia   \n",
       "1                            Avidagos      87   15.0              Douro   \n",
       "2                                 NaN      87   14.0             Oregon   \n",
       "3                Reserve Late Harvest      87   13.0           Michigan   \n",
       "4  Vintner's Reserve Wild Child Block      87   65.0             Oregon   \n",
       "\n",
       "              region_1           region_2         taster_name  \\\n",
       "0                 Etna                NaN       Kerin O’Keefe   \n",
       "1                  NaN                NaN          Roger Voss   \n",
       "2    Willamette Valley  Willamette Valley        Paul Gregutt   \n",
       "3  Lake Michigan Shore                NaN  Alexander Peartree   \n",
       "4    Willamette Valley  Willamette Valley        Paul Gregutt   \n",
       "\n",
       "  taster_twitter_handle                                              title  \\\n",
       "0          @kerinokeefe                  Nicosia 2013 Vulkà Bianco  (Etna)   \n",
       "1            @vossroger      Quinta dos Avidagos 2011 Avidagos Red (Douro)   \n",
       "2           @paulgwine       Rainstorm 2013 Pinot Gris (Willamette Valley)   \n",
       "3                   NaN  St. Julian 2013 Reserve Late Harvest Riesling ...   \n",
       "4           @paulgwine   Sweet Cheeks 2012 Vintner's Reserve Wild Child...   \n",
       "\n",
       "          variety               winery  \n",
       "0     White Blend              Nicosia  \n",
       "1  Portuguese Red  Quinta dos Avidagos  \n",
       "2      Pinot Gris            Rainstorm  \n",
       "3        Riesling           St. Julian  \n",
       "4      Pinot Noir         Sweet Cheeks  "
      ]
     },
     "execution_count": 2,
     "metadata": {},
     "output_type": "execute_result"
    }
   ],
   "source": [
    "reviews.head()"
   ]
  },
  {
   "cell_type": "markdown",
   "id": "endless-large",
   "metadata": {
    "papermill": {
     "duration": 0.016216,
     "end_time": "2021-05-23T05:23:41.825249",
     "exception": false,
     "start_time": "2021-05-23T05:23:41.809033",
     "status": "completed"
    },
    "tags": []
   },
   "source": [
    "## 1.\n",
    "`region_1` and `region_2` are pretty uninformative names for locale columns in the dataset. Create a copy of `reviews` with these columns renamed to `region` and `locale`, respectively."
   ]
  },
  {
   "cell_type": "code",
   "execution_count": 3,
   "id": "acknowledged-shipping",
   "metadata": {
    "execution": {
     "iopub.execute_input": "2021-05-23T05:23:41.861586Z",
     "iopub.status.busy": "2021-05-23T05:23:41.860643Z",
     "iopub.status.idle": "2021-05-23T05:23:41.891205Z",
     "shell.execute_reply": "2021-05-23T05:23:41.891628Z",
     "shell.execute_reply.started": "2021-05-21T05:57:08.487226Z"
    },
    "papermill": {
     "duration": 0.050208,
     "end_time": "2021-05-23T05:23:41.891825",
     "exception": false,
     "start_time": "2021-05-23T05:23:41.841617",
     "status": "completed"
    },
    "tags": []
   },
   "outputs": [
    {
     "data": {
      "application/javascript": [
       "parent.postMessage({\"jupyterEvent\": \"custom.exercise_interaction\", \"data\": {\"outcomeType\": 1, \"valueTowardsCompletion\": 0.25, \"interactionType\": 1, \"questionType\": 1, \"questionId\": \"1_RenameCols\", \"learnToolsVersion\": \"0.3.4\", \"failureMessage\": \"\", \"exceptionClass\": \"\", \"trace\": \"\"}}, \"*\")"
      ],
      "text/plain": [
       "<IPython.core.display.Javascript object>"
      ]
     },
     "metadata": {},
     "output_type": "display_data"
    },
    {
     "data": {
      "text/markdown": [
       "<span style=\"color:#33cc33\">Correct</span>"
      ],
      "text/plain": [
       "Correct"
      ]
     },
     "metadata": {},
     "output_type": "display_data"
    }
   ],
   "source": [
    "# Your code here\n",
    "renamed = reviews.rename(columns=dict(region_1='region', region_2='locale'))\n",
    "\n",
    "# Check your answer\n",
    "q1.check()"
   ]
  },
  {
   "cell_type": "code",
   "execution_count": 4,
   "id": "informational-bruce",
   "metadata": {
    "execution": {
     "iopub.execute_input": "2021-05-23T05:23:41.930190Z",
     "iopub.status.busy": "2021-05-23T05:23:41.929311Z",
     "iopub.status.idle": "2021-05-23T05:23:41.932533Z",
     "shell.execute_reply": "2021-05-23T05:23:41.933077Z",
     "shell.execute_reply.started": "2021-05-21T05:57:17.188773Z"
    },
    "papermill": {
     "duration": 0.024166,
     "end_time": "2021-05-23T05:23:41.933252",
     "exception": false,
     "start_time": "2021-05-23T05:23:41.909086",
     "status": "completed"
    },
    "tags": []
   },
   "outputs": [],
   "source": [
    "#q1.hint()\n",
    "#q1.solution()"
   ]
  },
  {
   "cell_type": "markdown",
   "id": "joined-corrections",
   "metadata": {
    "papermill": {
     "duration": 0.016909,
     "end_time": "2021-05-23T05:23:41.968419",
     "exception": false,
     "start_time": "2021-05-23T05:23:41.951510",
     "status": "completed"
    },
    "tags": []
   },
   "source": [
    "## 2.\n",
    "Set the index name in the dataset to `wines`."
   ]
  },
  {
   "cell_type": "code",
   "execution_count": 5,
   "id": "careful-statement",
   "metadata": {
    "execution": {
     "iopub.execute_input": "2021-05-23T05:23:42.007041Z",
     "iopub.status.busy": "2021-05-23T05:23:42.006025Z",
     "iopub.status.idle": "2021-05-23T05:23:42.036149Z",
     "shell.execute_reply": "2021-05-23T05:23:42.036632Z",
     "shell.execute_reply.started": "2021-05-21T05:58:26.324146Z"
    },
    "papermill": {
     "duration": 0.051085,
     "end_time": "2021-05-23T05:23:42.036816",
     "exception": false,
     "start_time": "2021-05-23T05:23:41.985731",
     "status": "completed"
    },
    "tags": []
   },
   "outputs": [
    {
     "data": {
      "application/javascript": [
       "parent.postMessage({\"jupyterEvent\": \"custom.exercise_interaction\", \"data\": {\"outcomeType\": 1, \"valueTowardsCompletion\": 0.25, \"interactionType\": 1, \"questionType\": 1, \"questionId\": \"2_RenameIndex\", \"learnToolsVersion\": \"0.3.4\", \"failureMessage\": \"\", \"exceptionClass\": \"\", \"trace\": \"\"}}, \"*\")"
      ],
      "text/plain": [
       "<IPython.core.display.Javascript object>"
      ]
     },
     "metadata": {},
     "output_type": "display_data"
    },
    {
     "data": {
      "text/markdown": [
       "<span style=\"color:#33cc33\">Correct</span>"
      ],
      "text/plain": [
       "Correct"
      ]
     },
     "metadata": {},
     "output_type": "display_data"
    }
   ],
   "source": [
    "reindexed = reviews.rename_axis('wines', axis='rows')\n",
    "\n",
    "# Check your answer\n",
    "q2.check()"
   ]
  },
  {
   "cell_type": "code",
   "execution_count": 6,
   "id": "disciplinary-burst",
   "metadata": {
    "execution": {
     "iopub.execute_input": "2021-05-23T05:23:42.077381Z",
     "iopub.status.busy": "2021-05-23T05:23:42.076662Z",
     "iopub.status.idle": "2021-05-23T05:23:42.079950Z",
     "shell.execute_reply": "2021-05-23T05:23:42.080447Z",
     "shell.execute_reply.started": "2021-05-21T05:58:35.457434Z"
    },
    "papermill": {
     "duration": 0.025551,
     "end_time": "2021-05-23T05:23:42.080616",
     "exception": false,
     "start_time": "2021-05-23T05:23:42.055065",
     "status": "completed"
    },
    "tags": []
   },
   "outputs": [],
   "source": [
    "#q2.hint()\n",
    "#q2.solution()"
   ]
  },
  {
   "cell_type": "markdown",
   "id": "eligible-uncertainty",
   "metadata": {
    "papermill": {
     "duration": 0.018095,
     "end_time": "2021-05-23T05:23:42.117190",
     "exception": false,
     "start_time": "2021-05-23T05:23:42.099095",
     "status": "completed"
    },
    "tags": []
   },
   "source": [
    "## 3.\n",
    "The [Things on Reddit](https://www.kaggle.com/residentmario/things-on-reddit/data) dataset includes product links from a selection of top-ranked forums (\"subreddits\") on reddit.com. Run the cell below to load a dataframe of products mentioned on the */r/gaming* subreddit and another dataframe for products mentioned on the *r//movies* subreddit."
   ]
  },
  {
   "cell_type": "code",
   "execution_count": 7,
   "id": "french-header",
   "metadata": {
    "execution": {
     "iopub.execute_input": "2021-05-23T05:23:42.158127Z",
     "iopub.status.busy": "2021-05-23T05:23:42.157459Z",
     "iopub.status.idle": "2021-05-23T05:23:42.172289Z",
     "shell.execute_reply": "2021-05-23T05:23:42.172856Z",
     "shell.execute_reply.started": "2021-05-21T05:58:40.41743Z"
    },
    "papermill": {
     "duration": 0.036911,
     "end_time": "2021-05-23T05:23:42.173072",
     "exception": false,
     "start_time": "2021-05-23T05:23:42.136161",
     "status": "completed"
    },
    "tags": []
   },
   "outputs": [],
   "source": [
    "gaming_products = pd.read_csv(\"../input/things-on-reddit/top-things/top-things/reddits/g/gaming.csv\")\n",
    "gaming_products['subreddit'] = \"r/gaming\"\n",
    "movie_products = pd.read_csv(\"../input/things-on-reddit/top-things/top-things/reddits/m/movies.csv\")\n",
    "movie_products['subreddit'] = \"r/movies\""
   ]
  },
  {
   "cell_type": "markdown",
   "id": "lined-validation",
   "metadata": {
    "papermill": {
     "duration": 0.018797,
     "end_time": "2021-05-23T05:23:42.210744",
     "exception": false,
     "start_time": "2021-05-23T05:23:42.191947",
     "status": "completed"
    },
    "tags": []
   },
   "source": [
    "Create a `DataFrame` of products mentioned on *either* subreddit."
   ]
  },
  {
   "cell_type": "code",
   "execution_count": 8,
   "id": "corporate-belief",
   "metadata": {
    "execution": {
     "iopub.execute_input": "2021-05-23T05:23:42.251100Z",
     "iopub.status.busy": "2021-05-23T05:23:42.250386Z",
     "iopub.status.idle": "2021-05-23T05:23:42.265428Z",
     "shell.execute_reply": "2021-05-23T05:23:42.264817Z",
     "shell.execute_reply.started": "2021-05-21T05:59:39.67784Z"
    },
    "papermill": {
     "duration": 0.036398,
     "end_time": "2021-05-23T05:23:42.265564",
     "exception": false,
     "start_time": "2021-05-23T05:23:42.229166",
     "status": "completed"
    },
    "tags": []
   },
   "outputs": [
    {
     "data": {
      "application/javascript": [
       "parent.postMessage({\"jupyterEvent\": \"custom.exercise_interaction\", \"data\": {\"outcomeType\": 1, \"valueTowardsCompletion\": 0.25, \"interactionType\": 1, \"questionType\": 2, \"questionId\": \"3_ConcatReddit\", \"learnToolsVersion\": \"0.3.4\", \"failureMessage\": \"\", \"exceptionClass\": \"\", \"trace\": \"\"}}, \"*\")"
      ],
      "text/plain": [
       "<IPython.core.display.Javascript object>"
      ]
     },
     "metadata": {},
     "output_type": "display_data"
    },
    {
     "data": {
      "text/markdown": [
       "<span style=\"color:#33cc33\">Correct</span>"
      ],
      "text/plain": [
       "Correct"
      ]
     },
     "metadata": {},
     "output_type": "display_data"
    }
   ],
   "source": [
    "combined_products = pd.concat([gaming_products, movie_products])\n",
    "\n",
    "# Check your answer\n",
    "q3.check()"
   ]
  },
  {
   "cell_type": "code",
   "execution_count": 9,
   "id": "weird-stanley",
   "metadata": {
    "execution": {
     "iopub.execute_input": "2021-05-23T05:23:42.309777Z",
     "iopub.status.busy": "2021-05-23T05:23:42.309080Z",
     "iopub.status.idle": "2021-05-23T05:23:42.311968Z",
     "shell.execute_reply": "2021-05-23T05:23:42.311307Z",
     "shell.execute_reply.started": "2021-05-21T05:59:45.597858Z"
    },
    "papermill": {
     "duration": 0.026765,
     "end_time": "2021-05-23T05:23:42.312111",
     "exception": false,
     "start_time": "2021-05-23T05:23:42.285346",
     "status": "completed"
    },
    "tags": []
   },
   "outputs": [],
   "source": [
    "#q3.hint()\n",
    "#q3.solution()"
   ]
  },
  {
   "cell_type": "markdown",
   "id": "informative-gospel",
   "metadata": {
    "papermill": {
     "duration": 0.01897,
     "end_time": "2021-05-23T05:23:42.350681",
     "exception": false,
     "start_time": "2021-05-23T05:23:42.331711",
     "status": "completed"
    },
    "tags": []
   },
   "source": [
    "## 4.\n",
    "The [Powerlifting Database](https://www.kaggle.com/open-powerlifting/powerlifting-database) dataset on Kaggle includes one CSV table for powerlifting meets and a separate one for powerlifting competitors. Run the cell below to load these datasets into dataframes:"
   ]
  },
  {
   "cell_type": "code",
   "execution_count": 10,
   "id": "ready-publisher",
   "metadata": {
    "execution": {
     "iopub.execute_input": "2021-05-23T05:23:42.394311Z",
     "iopub.status.busy": "2021-05-23T05:23:42.393532Z",
     "iopub.status.idle": "2021-05-23T05:23:43.196836Z",
     "shell.execute_reply": "2021-05-23T05:23:43.196279Z",
     "shell.execute_reply.started": "2021-05-21T05:59:50.437374Z"
    },
    "papermill": {
     "duration": 0.827038,
     "end_time": "2021-05-23T05:23:43.196988",
     "exception": false,
     "start_time": "2021-05-23T05:23:42.369950",
     "status": "completed"
    },
    "tags": []
   },
   "outputs": [],
   "source": [
    "powerlifting_meets = pd.read_csv(\"../input/powerlifting-database/meets.csv\")\n",
    "powerlifting_competitors = pd.read_csv(\"../input/powerlifting-database/openpowerlifting.csv\")"
   ]
  },
  {
   "cell_type": "markdown",
   "id": "timely-apparatus",
   "metadata": {
    "papermill": {
     "duration": 0.019348,
     "end_time": "2021-05-23T05:23:43.235845",
     "exception": false,
     "start_time": "2021-05-23T05:23:43.216497",
     "status": "completed"
    },
    "tags": []
   },
   "source": [
    "Both tables include references to a `MeetID`, a unique key for each meet (competition) included in the database. Using this, generate a dataset combining the two tables into one."
   ]
  },
  {
   "cell_type": "code",
   "execution_count": 11,
   "id": "beneficial-blogger",
   "metadata": {
    "execution": {
     "iopub.execute_input": "2021-05-23T05:23:43.281126Z",
     "iopub.status.busy": "2021-05-23T05:23:43.280423Z",
     "iopub.status.idle": "2021-05-23T05:23:44.586397Z",
     "shell.execute_reply": "2021-05-23T05:23:44.585780Z",
     "shell.execute_reply.started": "2021-05-21T06:02:18.66881Z"
    },
    "papermill": {
     "duration": 1.331292,
     "end_time": "2021-05-23T05:23:44.586548",
     "exception": false,
     "start_time": "2021-05-23T05:23:43.255256",
     "status": "completed"
    },
    "tags": []
   },
   "outputs": [
    {
     "data": {
      "application/javascript": [
       "parent.postMessage({\"jupyterEvent\": \"custom.exercise_interaction\", \"data\": {\"outcomeType\": 1, \"valueTowardsCompletion\": 0.25, \"interactionType\": 1, \"questionType\": 2, \"questionId\": \"4_JoinLifting\", \"learnToolsVersion\": \"0.3.4\", \"failureMessage\": \"\", \"exceptionClass\": \"\", \"trace\": \"\"}}, \"*\")"
      ],
      "text/plain": [
       "<IPython.core.display.Javascript object>"
      ]
     },
     "metadata": {},
     "output_type": "display_data"
    },
    {
     "data": {
      "text/markdown": [
       "<span style=\"color:#33cc33\">Correct</span>"
      ],
      "text/plain": [
       "Correct"
      ]
     },
     "metadata": {},
     "output_type": "display_data"
    }
   ],
   "source": [
    "\n",
    "powerlifting_combined = powerlifting_meets.set_index(\"MeetID\").join(powerlifting_competitors.set_index(\"MeetID\"))\n",
    "\n",
    "# Check your answer\n",
    "q4.check()"
   ]
  },
  {
   "cell_type": "code",
   "execution_count": 12,
   "id": "automotive-hypothesis",
   "metadata": {
    "execution": {
     "iopub.execute_input": "2021-05-23T05:23:44.632081Z",
     "iopub.status.busy": "2021-05-23T05:23:44.631081Z",
     "iopub.status.idle": "2021-05-23T05:23:44.634061Z",
     "shell.execute_reply": "2021-05-23T05:23:44.634539Z",
     "shell.execute_reply.started": "2021-05-21T06:02:25.228389Z"
    },
    "papermill": {
     "duration": 0.027845,
     "end_time": "2021-05-23T05:23:44.634748",
     "exception": false,
     "start_time": "2021-05-23T05:23:44.606903",
     "status": "completed"
    },
    "tags": []
   },
   "outputs": [],
   "source": [
    "#q4.hint()\n",
    "#q4.solution()"
   ]
  },
  {
   "cell_type": "markdown",
   "id": "dressed-chess",
   "metadata": {
    "papermill": {
     "duration": 0.020019,
     "end_time": "2021-05-23T05:23:44.675563",
     "exception": false,
     "start_time": "2021-05-23T05:23:44.655544",
     "status": "completed"
    },
    "tags": []
   },
   "source": [
    "# Congratulations!\n",
    "\n",
    "You've finished the Pandas micro-course.  Many data scientists feel efficiency with Pandas is the most useful and practical skill they have, because it allows you to progress quickly in any project you have.\n",
    "\n",
    "If you'd like to apply your new skills to examining geospatial data, you're encouraged to check out our **[Geospatial Analysis](https://www.kaggle.com/learn/geospatial-analysis)** micro-course.\n",
    "\n",
    "You can also take advantage of your Pandas skills by entering a **[Kaggle Competition](https://www.kaggle.com/competitions)** or by answering a question you find interesting using **[Kaggle Datasets](https://www.kaggle.com/datasets)**."
   ]
  },
  {
   "cell_type": "markdown",
   "id": "valuable-offer",
   "metadata": {
    "papermill": {
     "duration": 0.020013,
     "end_time": "2021-05-23T05:23:44.716047",
     "exception": false,
     "start_time": "2021-05-23T05:23:44.696034",
     "status": "completed"
    },
    "tags": []
   },
   "source": [
    "---\n",
    "\n",
    "\n",
    "\n",
    "\n",
    "*Have questions or comments? Visit the [Learn Discussion forum](https://www.kaggle.com/learn-forum/161299) to chat with other Learners.*"
   ]
  }
 ],
 "metadata": {
  "kernelspec": {
   "display_name": "Python 3",
   "language": "python",
   "name": "python3"
  },
  "language_info": {
   "codemirror_mode": {
    "name": "ipython",
    "version": 3
   },
   "file_extension": ".py",
   "mimetype": "text/x-python",
   "name": "python",
   "nbconvert_exporter": "python",
   "pygments_lexer": "ipython3",
   "version": "3.7.9"
  },
  "papermill": {
   "default_parameters": {},
   "duration": 14.128778,
   "end_time": "2021-05-23T05:23:45.446403",
   "environment_variables": {},
   "exception": null,
   "input_path": "__notebook__.ipynb",
   "output_path": "__notebook__.ipynb",
   "parameters": {},
   "start_time": "2021-05-23T05:23:31.317625",
   "version": "2.3.2"
  }
 },
 "nbformat": 4,
 "nbformat_minor": 5
}
