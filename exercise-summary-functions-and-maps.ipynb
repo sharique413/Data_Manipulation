{
 "cells": [
  {
   "cell_type": "markdown",
   "id": "complimentary-voluntary",
   "metadata": {
    "papermill": {
     "duration": 0.019946,
     "end_time": "2021-05-23T05:23:18.618799",
     "exception": false,
     "start_time": "2021-05-23T05:23:18.598853",
     "status": "completed"
    },
    "tags": []
   },
   "source": [
    "**This notebook is an exercise in the [Pandas](https://www.kaggle.com/learn/pandas) course.  You can reference the tutorial at [this link](https://www.kaggle.com/residentmario/summary-functions-and-maps).**\n",
    "\n",
    "---\n"
   ]
  },
  {
   "cell_type": "markdown",
   "id": "unknown-approval",
   "metadata": {
    "papermill": {
     "duration": 0.01799,
     "end_time": "2021-05-23T05:23:18.655050",
     "exception": false,
     "start_time": "2021-05-23T05:23:18.637060",
     "status": "completed"
    },
    "tags": []
   },
   "source": [
    "# Introduction\n",
    "\n",
    "Now you are ready to get a deeper understanding of your data.\n",
    "\n",
    "Run the following cell to load your data and some utility functions (including code to check your answers)."
   ]
  },
  {
   "cell_type": "code",
   "execution_count": 1,
   "id": "unnecessary-frank",
   "metadata": {
    "execution": {
     "iopub.execute_input": "2021-05-23T05:23:18.698794Z",
     "iopub.status.busy": "2021-05-23T05:23:18.698166Z",
     "iopub.status.idle": "2021-05-23T05:23:26.266858Z",
     "shell.execute_reply": "2021-05-23T05:23:26.266249Z",
     "shell.execute_reply.started": "2021-05-21T03:33:04.509174Z"
    },
    "papermill": {
     "duration": 7.59363,
     "end_time": "2021-05-23T05:23:26.267055",
     "exception": false,
     "start_time": "2021-05-23T05:23:18.673425",
     "status": "completed"
    },
    "tags": []
   },
   "outputs": [
    {
     "name": "stdout",
     "output_type": "stream",
     "text": [
      "Setup complete.\n"
     ]
    },
    {
     "data": {
      "text/html": [
       "<div>\n",
       "<style scoped>\n",
       "    .dataframe tbody tr th:only-of-type {\n",
       "        vertical-align: middle;\n",
       "    }\n",
       "\n",
       "    .dataframe tbody tr th {\n",
       "        vertical-align: top;\n",
       "    }\n",
       "\n",
       "    .dataframe thead th {\n",
       "        text-align: right;\n",
       "    }\n",
       "</style>\n",
       "<table border=\"1\" class=\"dataframe\">\n",
       "  <thead>\n",
       "    <tr style=\"text-align: right;\">\n",
       "      <th></th>\n",
       "      <th>country</th>\n",
       "      <th>description</th>\n",
       "      <th>designation</th>\n",
       "      <th>points</th>\n",
       "      <th>price</th>\n",
       "      <th>province</th>\n",
       "      <th>region_1</th>\n",
       "      <th>region_2</th>\n",
       "      <th>taster_name</th>\n",
       "      <th>taster_twitter_handle</th>\n",
       "      <th>title</th>\n",
       "      <th>variety</th>\n",
       "      <th>winery</th>\n",
       "    </tr>\n",
       "  </thead>\n",
       "  <tbody>\n",
       "    <tr>\n",
       "      <th>0</th>\n",
       "      <td>Italy</td>\n",
       "      <td>Aromas include tropical fruit, broom, brimston...</td>\n",
       "      <td>Vulkà Bianco</td>\n",
       "      <td>87</td>\n",
       "      <td>NaN</td>\n",
       "      <td>Sicily &amp; Sardinia</td>\n",
       "      <td>Etna</td>\n",
       "      <td>NaN</td>\n",
       "      <td>Kerin O’Keefe</td>\n",
       "      <td>@kerinokeefe</td>\n",
       "      <td>Nicosia 2013 Vulkà Bianco  (Etna)</td>\n",
       "      <td>White Blend</td>\n",
       "      <td>Nicosia</td>\n",
       "    </tr>\n",
       "    <tr>\n",
       "      <th>1</th>\n",
       "      <td>Portugal</td>\n",
       "      <td>This is ripe and fruity, a wine that is smooth...</td>\n",
       "      <td>Avidagos</td>\n",
       "      <td>87</td>\n",
       "      <td>15.0</td>\n",
       "      <td>Douro</td>\n",
       "      <td>NaN</td>\n",
       "      <td>NaN</td>\n",
       "      <td>Roger Voss</td>\n",
       "      <td>@vossroger</td>\n",
       "      <td>Quinta dos Avidagos 2011 Avidagos Red (Douro)</td>\n",
       "      <td>Portuguese Red</td>\n",
       "      <td>Quinta dos Avidagos</td>\n",
       "    </tr>\n",
       "    <tr>\n",
       "      <th>2</th>\n",
       "      <td>US</td>\n",
       "      <td>Tart and snappy, the flavors of lime flesh and...</td>\n",
       "      <td>NaN</td>\n",
       "      <td>87</td>\n",
       "      <td>14.0</td>\n",
       "      <td>Oregon</td>\n",
       "      <td>Willamette Valley</td>\n",
       "      <td>Willamette Valley</td>\n",
       "      <td>Paul Gregutt</td>\n",
       "      <td>@paulgwine</td>\n",
       "      <td>Rainstorm 2013 Pinot Gris (Willamette Valley)</td>\n",
       "      <td>Pinot Gris</td>\n",
       "      <td>Rainstorm</td>\n",
       "    </tr>\n",
       "    <tr>\n",
       "      <th>3</th>\n",
       "      <td>US</td>\n",
       "      <td>Pineapple rind, lemon pith and orange blossom ...</td>\n",
       "      <td>Reserve Late Harvest</td>\n",
       "      <td>87</td>\n",
       "      <td>13.0</td>\n",
       "      <td>Michigan</td>\n",
       "      <td>Lake Michigan Shore</td>\n",
       "      <td>NaN</td>\n",
       "      <td>Alexander Peartree</td>\n",
       "      <td>NaN</td>\n",
       "      <td>St. Julian 2013 Reserve Late Harvest Riesling ...</td>\n",
       "      <td>Riesling</td>\n",
       "      <td>St. Julian</td>\n",
       "    </tr>\n",
       "    <tr>\n",
       "      <th>4</th>\n",
       "      <td>US</td>\n",
       "      <td>Much like the regular bottling from 2012, this...</td>\n",
       "      <td>Vintner's Reserve Wild Child Block</td>\n",
       "      <td>87</td>\n",
       "      <td>65.0</td>\n",
       "      <td>Oregon</td>\n",
       "      <td>Willamette Valley</td>\n",
       "      <td>Willamette Valley</td>\n",
       "      <td>Paul Gregutt</td>\n",
       "      <td>@paulgwine</td>\n",
       "      <td>Sweet Cheeks 2012 Vintner's Reserve Wild Child...</td>\n",
       "      <td>Pinot Noir</td>\n",
       "      <td>Sweet Cheeks</td>\n",
       "    </tr>\n",
       "  </tbody>\n",
       "</table>\n",
       "</div>"
      ],
      "text/plain": [
       "    country                                        description  \\\n",
       "0     Italy  Aromas include tropical fruit, broom, brimston...   \n",
       "1  Portugal  This is ripe and fruity, a wine that is smooth...   \n",
       "2        US  Tart and snappy, the flavors of lime flesh and...   \n",
       "3        US  Pineapple rind, lemon pith and orange blossom ...   \n",
       "4        US  Much like the regular bottling from 2012, this...   \n",
       "\n",
       "                          designation  points  price           province  \\\n",
       "0                        Vulkà Bianco      87    NaN  Sicily & Sardinia   \n",
       "1                            Avidagos      87   15.0              Douro   \n",
       "2                                 NaN      87   14.0             Oregon   \n",
       "3                Reserve Late Harvest      87   13.0           Michigan   \n",
       "4  Vintner's Reserve Wild Child Block      87   65.0             Oregon   \n",
       "\n",
       "              region_1           region_2         taster_name  \\\n",
       "0                 Etna                NaN       Kerin O’Keefe   \n",
       "1                  NaN                NaN          Roger Voss   \n",
       "2    Willamette Valley  Willamette Valley        Paul Gregutt   \n",
       "3  Lake Michigan Shore                NaN  Alexander Peartree   \n",
       "4    Willamette Valley  Willamette Valley        Paul Gregutt   \n",
       "\n",
       "  taster_twitter_handle                                              title  \\\n",
       "0          @kerinokeefe                  Nicosia 2013 Vulkà Bianco  (Etna)   \n",
       "1            @vossroger      Quinta dos Avidagos 2011 Avidagos Red (Douro)   \n",
       "2           @paulgwine       Rainstorm 2013 Pinot Gris (Willamette Valley)   \n",
       "3                   NaN  St. Julian 2013 Reserve Late Harvest Riesling ...   \n",
       "4           @paulgwine   Sweet Cheeks 2012 Vintner's Reserve Wild Child...   \n",
       "\n",
       "          variety               winery  \n",
       "0     White Blend              Nicosia  \n",
       "1  Portuguese Red  Quinta dos Avidagos  \n",
       "2      Pinot Gris            Rainstorm  \n",
       "3        Riesling           St. Julian  \n",
       "4      Pinot Noir         Sweet Cheeks  "
      ]
     },
     "execution_count": 1,
     "metadata": {},
     "output_type": "execute_result"
    }
   ],
   "source": [
    "import pandas as pd\n",
    "pd.set_option(\"display.max_rows\", 5)\n",
    "reviews = pd.read_csv(\"../input/wine-reviews/winemag-data-130k-v2.csv\", index_col=0)\n",
    "\n",
    "from learntools.core import binder; binder.bind(globals())\n",
    "from learntools.pandas.summary_functions_and_maps import *\n",
    "print(\"Setup complete.\")\n",
    "\n",
    "reviews.head()"
   ]
  },
  {
   "cell_type": "markdown",
   "id": "cooperative-exception",
   "metadata": {
    "papermill": {
     "duration": 0.020579,
     "end_time": "2021-05-23T05:23:26.307223",
     "exception": false,
     "start_time": "2021-05-23T05:23:26.286644",
     "status": "completed"
    },
    "tags": []
   },
   "source": [
    "# Exercises"
   ]
  },
  {
   "cell_type": "markdown",
   "id": "expanded-astrology",
   "metadata": {
    "papermill": {
     "duration": 0.018983,
     "end_time": "2021-05-23T05:23:26.346078",
     "exception": false,
     "start_time": "2021-05-23T05:23:26.327095",
     "status": "completed"
    },
    "tags": []
   },
   "source": [
    "## 1.\n",
    "\n",
    "What is the median of the `points` column in the `reviews` DataFrame?"
   ]
  },
  {
   "cell_type": "code",
   "execution_count": 2,
   "id": "internal-connectivity",
   "metadata": {
    "execution": {
     "iopub.execute_input": "2021-05-23T05:23:26.387542Z",
     "iopub.status.busy": "2021-05-23T05:23:26.386916Z",
     "iopub.status.idle": "2021-05-23T05:23:26.394322Z",
     "shell.execute_reply": "2021-05-23T05:23:26.394916Z",
     "shell.execute_reply.started": "2021-05-21T03:34:53.641301Z"
    },
    "papermill": {
     "duration": 0.029867,
     "end_time": "2021-05-23T05:23:26.395089",
     "exception": false,
     "start_time": "2021-05-23T05:23:26.365222",
     "status": "completed"
    },
    "tags": []
   },
   "outputs": [
    {
     "data": {
      "application/javascript": [
       "parent.postMessage({\"jupyterEvent\": \"custom.exercise_interaction\", \"data\": {\"outcomeType\": 1, \"valueTowardsCompletion\": 0.14285714285714285, \"interactionType\": 1, \"questionType\": 1, \"questionId\": \"1_MedianPoints\", \"learnToolsVersion\": \"0.3.4\", \"failureMessage\": \"\", \"exceptionClass\": \"\", \"trace\": \"\"}}, \"*\")"
      ],
      "text/plain": [
       "<IPython.core.display.Javascript object>"
      ]
     },
     "metadata": {},
     "output_type": "display_data"
    },
    {
     "data": {
      "text/markdown": [
       "<span style=\"color:#33cc33\">Correct</span>"
      ],
      "text/plain": [
       "Correct"
      ]
     },
     "metadata": {},
     "output_type": "display_data"
    }
   ],
   "source": [
    "median_points = reviews.points.median()\n",
    "\n",
    "# Check your answer\n",
    "q1.check()"
   ]
  },
  {
   "cell_type": "code",
   "execution_count": 3,
   "id": "vertical-detection",
   "metadata": {
    "execution": {
     "iopub.execute_input": "2021-05-23T05:23:26.439076Z",
     "iopub.status.busy": "2021-05-23T05:23:26.438217Z",
     "iopub.status.idle": "2021-05-23T05:23:26.442307Z",
     "shell.execute_reply": "2021-05-23T05:23:26.442770Z",
     "shell.execute_reply.started": "2021-05-21T03:35:00.862268Z"
    },
    "papermill": {
     "duration": 0.027519,
     "end_time": "2021-05-23T05:23:26.442965",
     "exception": false,
     "start_time": "2021-05-23T05:23:26.415446",
     "status": "completed"
    },
    "tags": []
   },
   "outputs": [],
   "source": [
    "#q1.hint()\n",
    "#q1.solution()"
   ]
  },
  {
   "cell_type": "markdown",
   "id": "blocked-october",
   "metadata": {
    "papermill": {
     "duration": 0.020537,
     "end_time": "2021-05-23T05:23:26.484802",
     "exception": false,
     "start_time": "2021-05-23T05:23:26.464265",
     "status": "completed"
    },
    "tags": []
   },
   "source": [
    "## 2. \n",
    "What countries are represented in the dataset? (Your answer should not include any duplicates.)"
   ]
  },
  {
   "cell_type": "code",
   "execution_count": 4,
   "id": "excited-prague",
   "metadata": {
    "execution": {
     "iopub.execute_input": "2021-05-23T05:23:26.543222Z",
     "iopub.status.busy": "2021-05-23T05:23:26.542290Z",
     "iopub.status.idle": "2021-05-23T05:23:26.548254Z",
     "shell.execute_reply": "2021-05-23T05:23:26.547625Z",
     "shell.execute_reply.started": "2021-05-21T03:35:50.541056Z"
    },
    "papermill": {
     "duration": 0.043343,
     "end_time": "2021-05-23T05:23:26.548389",
     "exception": false,
     "start_time": "2021-05-23T05:23:26.505046",
     "status": "completed"
    },
    "tags": []
   },
   "outputs": [
    {
     "data": {
      "application/javascript": [
       "parent.postMessage({\"jupyterEvent\": \"custom.exercise_interaction\", \"data\": {\"outcomeType\": 1, \"valueTowardsCompletion\": 0.14285714285714285, \"interactionType\": 1, \"questionType\": 2, \"questionId\": \"2_UniqueCountries\", \"learnToolsVersion\": \"0.3.4\", \"failureMessage\": \"\", \"exceptionClass\": \"\", \"trace\": \"\"}}, \"*\")"
      ],
      "text/plain": [
       "<IPython.core.display.Javascript object>"
      ]
     },
     "metadata": {},
     "output_type": "display_data"
    },
    {
     "data": {
      "text/markdown": [
       "<span style=\"color:#33cc33\">Correct</span>"
      ],
      "text/plain": [
       "Correct"
      ]
     },
     "metadata": {},
     "output_type": "display_data"
    }
   ],
   "source": [
    "countries = reviews.country.unique()\n",
    "\n",
    "# Check your answer\n",
    "q2.check()"
   ]
  },
  {
   "cell_type": "code",
   "execution_count": 5,
   "id": "continuing-mercy",
   "metadata": {
    "execution": {
     "iopub.execute_input": "2021-05-23T05:23:26.595757Z",
     "iopub.status.busy": "2021-05-23T05:23:26.594969Z",
     "iopub.status.idle": "2021-05-23T05:23:26.597988Z",
     "shell.execute_reply": "2021-05-23T05:23:26.597467Z",
     "shell.execute_reply.started": "2021-05-21T03:36:12.579426Z"
    },
    "papermill": {
     "duration": 0.028567,
     "end_time": "2021-05-23T05:23:26.598139",
     "exception": false,
     "start_time": "2021-05-23T05:23:26.569572",
     "status": "completed"
    },
    "tags": []
   },
   "outputs": [],
   "source": [
    "#q2.hint()\n",
    "#q2.solution()"
   ]
  },
  {
   "cell_type": "markdown",
   "id": "handy-horror",
   "metadata": {
    "papermill": {
     "duration": 0.021065,
     "end_time": "2021-05-23T05:23:26.641616",
     "exception": false,
     "start_time": "2021-05-23T05:23:26.620551",
     "status": "completed"
    },
    "tags": []
   },
   "source": [
    "## 3.\n",
    "How often does each country appear in the dataset? Create a Series `reviews_per_country` mapping countries to the count of reviews of wines from that country."
   ]
  },
  {
   "cell_type": "code",
   "execution_count": 6,
   "id": "formal-mercury",
   "metadata": {
    "execution": {
     "iopub.execute_input": "2021-05-23T05:23:26.716715Z",
     "iopub.status.busy": "2021-05-23T05:23:26.715970Z",
     "iopub.status.idle": "2021-05-23T05:23:26.722955Z",
     "shell.execute_reply": "2021-05-23T05:23:26.722333Z",
     "shell.execute_reply.started": "2021-05-21T03:38:47.490576Z"
    },
    "papermill": {
     "duration": 0.060186,
     "end_time": "2021-05-23T05:23:26.723094",
     "exception": false,
     "start_time": "2021-05-23T05:23:26.662908",
     "status": "completed"
    },
    "tags": []
   },
   "outputs": [
    {
     "data": {
      "application/javascript": [
       "parent.postMessage({\"jupyterEvent\": \"custom.exercise_interaction\", \"data\": {\"outcomeType\": 1, \"valueTowardsCompletion\": 0.14285714285714285, \"interactionType\": 1, \"questionType\": 1, \"questionId\": \"3_ReviewsPerCountry\", \"learnToolsVersion\": \"0.3.4\", \"failureMessage\": \"\", \"exceptionClass\": \"\", \"trace\": \"\"}}, \"*\")"
      ],
      "text/plain": [
       "<IPython.core.display.Javascript object>"
      ]
     },
     "metadata": {},
     "output_type": "display_data"
    },
    {
     "data": {
      "text/markdown": [
       "<span style=\"color:#33cc33\">Correct</span>"
      ],
      "text/plain": [
       "Correct"
      ]
     },
     "metadata": {},
     "output_type": "display_data"
    }
   ],
   "source": [
    "reviews_per_country = reviews.country.value_counts()\n",
    "\n",
    "# Check your answer\n",
    "q3.check()"
   ]
  },
  {
   "cell_type": "code",
   "execution_count": 7,
   "id": "quantitative-harvey",
   "metadata": {
    "execution": {
     "iopub.execute_input": "2021-05-23T05:23:26.772807Z",
     "iopub.status.busy": "2021-05-23T05:23:26.772180Z",
     "iopub.status.idle": "2021-05-23T05:23:26.775007Z",
     "shell.execute_reply": "2021-05-23T05:23:26.774403Z",
     "shell.execute_reply.started": "2021-05-21T03:38:52.665725Z"
    },
    "papermill": {
     "duration": 0.029782,
     "end_time": "2021-05-23T05:23:26.775159",
     "exception": false,
     "start_time": "2021-05-23T05:23:26.745377",
     "status": "completed"
    },
    "tags": []
   },
   "outputs": [],
   "source": [
    "#q3.hint()\n",
    "#q3.solution()"
   ]
  },
  {
   "cell_type": "markdown",
   "id": "veterinary-stage",
   "metadata": {
    "papermill": {
     "duration": 0.022438,
     "end_time": "2021-05-23T05:23:26.820783",
     "exception": false,
     "start_time": "2021-05-23T05:23:26.798345",
     "status": "completed"
    },
    "tags": []
   },
   "source": [
    "## 4.\n",
    "Create variable `centered_price` containing a version of the `price` column with the mean price subtracted.\n",
    "\n",
    "(Note: this 'centering' transformation is a common preprocessing step before applying various machine learning algorithms.) "
   ]
  },
  {
   "cell_type": "code",
   "execution_count": 8,
   "id": "trained-terrorist",
   "metadata": {
    "execution": {
     "iopub.execute_input": "2021-05-23T05:23:26.869113Z",
     "iopub.status.busy": "2021-05-23T05:23:26.868466Z",
     "iopub.status.idle": "2021-05-23T05:23:26.876378Z",
     "shell.execute_reply": "2021-05-23T05:23:26.876938Z",
     "shell.execute_reply.started": "2021-05-21T03:40:53.691981Z"
    },
    "papermill": {
     "duration": 0.033849,
     "end_time": "2021-05-23T05:23:26.877108",
     "exception": false,
     "start_time": "2021-05-23T05:23:26.843259",
     "status": "completed"
    },
    "tags": []
   },
   "outputs": [
    {
     "data": {
      "application/javascript": [
       "parent.postMessage({\"jupyterEvent\": \"custom.exercise_interaction\", \"data\": {\"outcomeType\": 1, \"valueTowardsCompletion\": 0.14285714285714285, \"interactionType\": 1, \"questionType\": 1, \"questionId\": \"4_CenteredPrice\", \"learnToolsVersion\": \"0.3.4\", \"failureMessage\": \"\", \"exceptionClass\": \"\", \"trace\": \"\"}}, \"*\")"
      ],
      "text/plain": [
       "<IPython.core.display.Javascript object>"
      ]
     },
     "metadata": {},
     "output_type": "display_data"
    },
    {
     "data": {
      "text/markdown": [
       "<span style=\"color:#33cc33\">Correct</span>"
      ],
      "text/plain": [
       "Correct"
      ]
     },
     "metadata": {},
     "output_type": "display_data"
    }
   ],
   "source": [
    "centered_price = reviews.price - reviews.price.mean()\n",
    "\n",
    "# Check your answer\n",
    "q4.check()"
   ]
  },
  {
   "cell_type": "code",
   "execution_count": 9,
   "id": "continent-madagascar",
   "metadata": {
    "execution": {
     "iopub.execute_input": "2021-05-23T05:23:26.926805Z",
     "iopub.status.busy": "2021-05-23T05:23:26.926203Z",
     "iopub.status.idle": "2021-05-23T05:23:26.929529Z",
     "shell.execute_reply": "2021-05-23T05:23:26.930123Z",
     "shell.execute_reply.started": "2021-05-21T03:41:00.652005Z"
    },
    "papermill": {
     "duration": 0.029886,
     "end_time": "2021-05-23T05:23:26.930293",
     "exception": false,
     "start_time": "2021-05-23T05:23:26.900407",
     "status": "completed"
    },
    "tags": []
   },
   "outputs": [],
   "source": [
    "#q4.hint()\n",
    "#q4.solution()"
   ]
  },
  {
   "cell_type": "markdown",
   "id": "instrumental-printer",
   "metadata": {
    "papermill": {
     "duration": 0.023002,
     "end_time": "2021-05-23T05:23:26.976689",
     "exception": false,
     "start_time": "2021-05-23T05:23:26.953687",
     "status": "completed"
    },
    "tags": []
   },
   "source": [
    "## 5.\n",
    "I'm an economical wine buyer. Which wine is the \"best bargain\"? Create a variable `bargain_wine` with the title of the wine with the highest points-to-price ratio in the dataset."
   ]
  },
  {
   "cell_type": "code",
   "execution_count": 10,
   "id": "electoral-valuation",
   "metadata": {
    "execution": {
     "iopub.execute_input": "2021-05-23T05:23:27.030275Z",
     "iopub.status.busy": "2021-05-23T05:23:27.029566Z",
     "iopub.status.idle": "2021-05-23T05:23:27.040305Z",
     "shell.execute_reply": "2021-05-23T05:23:27.039679Z",
     "shell.execute_reply.started": "2021-05-21T03:45:33.400804Z"
    },
    "papermill": {
     "duration": 0.040083,
     "end_time": "2021-05-23T05:23:27.040440",
     "exception": false,
     "start_time": "2021-05-23T05:23:27.000357",
     "status": "completed"
    },
    "tags": []
   },
   "outputs": [
    {
     "data": {
      "application/javascript": [
       "parent.postMessage({\"jupyterEvent\": \"custom.exercise_interaction\", \"data\": {\"outcomeType\": 1, \"valueTowardsCompletion\": 0.14285714285714285, \"interactionType\": 1, \"questionType\": 2, \"questionId\": \"5_BargainWine\", \"learnToolsVersion\": \"0.3.4\", \"failureMessage\": \"\", \"exceptionClass\": \"\", \"trace\": \"\"}}, \"*\")"
      ],
      "text/plain": [
       "<IPython.core.display.Javascript object>"
      ]
     },
     "metadata": {},
     "output_type": "display_data"
    },
    {
     "data": {
      "text/markdown": [
       "<span style=\"color:#33cc33\">Correct</span>"
      ],
      "text/plain": [
       "Correct"
      ]
     },
     "metadata": {},
     "output_type": "display_data"
    }
   ],
   "source": [
    "bargain_idx = (reviews.points / reviews.price).idxmax()\n",
    "bargain_wine = reviews.loc[bargain_idx, 'title']\n",
    "# Check your answer\n",
    "q5.check()"
   ]
  },
  {
   "cell_type": "code",
   "execution_count": 11,
   "id": "cloudy-future",
   "metadata": {
    "execution": {
     "iopub.execute_input": "2021-05-23T05:23:27.092838Z",
     "iopub.status.busy": "2021-05-23T05:23:27.092249Z",
     "iopub.status.idle": "2021-05-23T05:23:27.094997Z",
     "shell.execute_reply": "2021-05-23T05:23:27.094504Z",
     "shell.execute_reply.started": "2021-05-21T03:45:39.391021Z"
    },
    "papermill": {
     "duration": 0.030523,
     "end_time": "2021-05-23T05:23:27.095143",
     "exception": false,
     "start_time": "2021-05-23T05:23:27.064620",
     "status": "completed"
    },
    "tags": []
   },
   "outputs": [],
   "source": [
    "#q5.hint()\n",
    "#q5.solution()"
   ]
  },
  {
   "cell_type": "markdown",
   "id": "renewable-religious",
   "metadata": {
    "papermill": {
     "duration": 0.023627,
     "end_time": "2021-05-23T05:23:27.143331",
     "exception": false,
     "start_time": "2021-05-23T05:23:27.119704",
     "status": "completed"
    },
    "tags": []
   },
   "source": [
    "## 6.\n",
    "There are only so many words you can use when describing a bottle of wine. Is a wine more likely to be \"tropical\" or \"fruity\"? Create a Series `descriptor_counts` counting how many times each of these two words appears in the `description` column in the dataset."
   ]
  },
  {
   "cell_type": "code",
   "execution_count": 12,
   "id": "colonial-costa",
   "metadata": {
    "execution": {
     "iopub.execute_input": "2021-05-23T05:23:27.204321Z",
     "iopub.status.busy": "2021-05-23T05:23:27.198879Z",
     "iopub.status.idle": "2021-05-23T05:23:27.338278Z",
     "shell.execute_reply": "2021-05-23T05:23:27.338721Z",
     "shell.execute_reply.started": "2021-05-21T03:50:10.670602Z"
    },
    "papermill": {
     "duration": 0.171662,
     "end_time": "2021-05-23T05:23:27.338903",
     "exception": false,
     "start_time": "2021-05-23T05:23:27.167241",
     "status": "completed"
    },
    "tags": []
   },
   "outputs": [
    {
     "data": {
      "application/javascript": [
       "parent.postMessage({\"jupyterEvent\": \"custom.exercise_interaction\", \"data\": {\"outcomeType\": 1, \"valueTowardsCompletion\": 0.14285714285714285, \"interactionType\": 1, \"questionType\": 1, \"questionId\": \"6_DescriptorCounts\", \"learnToolsVersion\": \"0.3.4\", \"failureMessage\": \"\", \"exceptionClass\": \"\", \"trace\": \"\"}}, \"*\")"
      ],
      "text/plain": [
       "<IPython.core.display.Javascript object>"
      ]
     },
     "metadata": {},
     "output_type": "display_data"
    },
    {
     "data": {
      "text/markdown": [
       "<span style=\"color:#33cc33\">Correct</span>"
      ],
      "text/plain": [
       "Correct"
      ]
     },
     "metadata": {},
     "output_type": "display_data"
    }
   ],
   "source": [
    "n_trop = reviews.description.map(lambda desc: \"tropical\" in desc).sum()\n",
    "n_fruity = reviews.description.map(lambda desc: \"fruity\" in desc).sum()\n",
    "descriptor_counts = pd.Series([n_trop, n_fruity], index=['tropical', 'fruity'])\n",
    "\n",
    "# Check your answer\n",
    "q6.check()"
   ]
  },
  {
   "cell_type": "code",
   "execution_count": 13,
   "id": "musical-section",
   "metadata": {
    "execution": {
     "iopub.execute_input": "2021-05-23T05:23:27.392905Z",
     "iopub.status.busy": "2021-05-23T05:23:27.392267Z",
     "iopub.status.idle": "2021-05-23T05:23:27.395582Z",
     "shell.execute_reply": "2021-05-23T05:23:27.395119Z",
     "shell.execute_reply.started": "2021-05-21T03:50:17.640295Z"
    },
    "papermill": {
     "duration": 0.03178,
     "end_time": "2021-05-23T05:23:27.395724",
     "exception": false,
     "start_time": "2021-05-23T05:23:27.363944",
     "status": "completed"
    },
    "tags": []
   },
   "outputs": [],
   "source": [
    "#q6.hint()\n",
    "#q6.solution()"
   ]
  },
  {
   "cell_type": "markdown",
   "id": "indonesian-organic",
   "metadata": {
    "papermill": {
     "duration": 0.024411,
     "end_time": "2021-05-23T05:23:27.444954",
     "exception": false,
     "start_time": "2021-05-23T05:23:27.420543",
     "status": "completed"
    },
    "tags": []
   },
   "source": [
    "## 7.\n",
    "We'd like to host these wine reviews on our website, but a rating system ranging from 80 to 100 points is too hard to understand - we'd like to translate them into simple star ratings. A score of 95 or higher counts as 3 stars, a score of at least 85 but less than 95 is 2 stars. Any other score is 1 star.\n",
    "\n",
    "Also, the Canadian Vintners Association bought a lot of ads on the site, so any wines from Canada should automatically get 3 stars, regardless of points.\n",
    "\n",
    "Create a series `star_ratings` with the number of stars corresponding to each review in the dataset."
   ]
  },
  {
   "cell_type": "code",
   "execution_count": 14,
   "id": "familiar-enforcement",
   "metadata": {
    "execution": {
     "iopub.execute_input": "2021-05-23T05:23:27.508911Z",
     "iopub.status.busy": "2021-05-23T05:23:27.500430Z",
     "iopub.status.idle": "2021-05-23T05:23:32.162308Z",
     "shell.execute_reply": "2021-05-23T05:23:32.161600Z",
     "shell.execute_reply.started": "2021-05-21T03:54:12.390874Z"
    },
    "papermill": {
     "duration": 4.692299,
     "end_time": "2021-05-23T05:23:32.162464",
     "exception": false,
     "start_time": "2021-05-23T05:23:27.470165",
     "status": "completed"
    },
    "tags": []
   },
   "outputs": [
    {
     "data": {
      "application/javascript": [
       "parent.postMessage({\"jupyterEvent\": \"custom.exercise_interaction\", \"data\": {\"outcomeType\": 1, \"valueTowardsCompletion\": 0.14285714285714285, \"interactionType\": 1, \"questionType\": 1, \"questionId\": \"7_StarRatings\", \"learnToolsVersion\": \"0.3.4\", \"failureMessage\": \"\", \"exceptionClass\": \"\", \"trace\": \"\"}}, \"*\")"
      ],
      "text/plain": [
       "<IPython.core.display.Javascript object>"
      ]
     },
     "metadata": {},
     "output_type": "display_data"
    },
    {
     "data": {
      "text/markdown": [
       "<span style=\"color:#33cc33\">Correct</span>"
      ],
      "text/plain": [
       "Correct"
      ]
     },
     "metadata": {},
     "output_type": "display_data"
    }
   ],
   "source": [
    "def stars(row):\n",
    "    if row.country == 'Canada':\n",
    "        return 3\n",
    "    elif row.points >= 95:\n",
    "        return 3\n",
    "    elif row.points >= 85:\n",
    "        return 2\n",
    "    else:\n",
    "        return 1\n",
    "star_ratings =  reviews.apply(stars, axis='columns')\n",
    "\n",
    "# Check your answer\n",
    "q7.check()"
   ]
  },
  {
   "cell_type": "code",
   "execution_count": 15,
   "id": "joined-creation",
   "metadata": {
    "execution": {
     "iopub.execute_input": "2021-05-23T05:23:32.220047Z",
     "iopub.status.busy": "2021-05-23T05:23:32.219407Z",
     "iopub.status.idle": "2021-05-23T05:23:32.222124Z",
     "shell.execute_reply": "2021-05-23T05:23:32.222563Z",
     "shell.execute_reply.started": "2021-05-21T03:55:05.531266Z"
    },
    "papermill": {
     "duration": 0.033499,
     "end_time": "2021-05-23T05:23:32.222742",
     "exception": false,
     "start_time": "2021-05-23T05:23:32.189243",
     "status": "completed"
    },
    "tags": []
   },
   "outputs": [],
   "source": [
    "#q7.hint()\n",
    "#q7.solution()"
   ]
  },
  {
   "cell_type": "markdown",
   "id": "altered-unknown",
   "metadata": {
    "papermill": {
     "duration": 0.025607,
     "end_time": "2021-05-23T05:23:32.274427",
     "exception": false,
     "start_time": "2021-05-23T05:23:32.248820",
     "status": "completed"
    },
    "tags": []
   },
   "source": [
    "# Keep going\n",
    "Continue to **[grouping and sorting](https://www.kaggle.com/residentmario/grouping-and-sorting)**."
   ]
  },
  {
   "cell_type": "markdown",
   "id": "excess-university",
   "metadata": {
    "papermill": {
     "duration": 0.025589,
     "end_time": "2021-05-23T05:23:32.325998",
     "exception": false,
     "start_time": "2021-05-23T05:23:32.300409",
     "status": "completed"
    },
    "tags": []
   },
   "source": [
    "---\n",
    "\n",
    "\n",
    "\n",
    "\n",
    "*Have questions or comments? Visit the [Learn Discussion forum](https://www.kaggle.com/learn-forum/161299) to chat with other Learners.*"
   ]
  }
 ],
 "metadata": {
  "kernelspec": {
   "display_name": "Python 3",
   "language": "python",
   "name": "python3"
  },
  "language_info": {
   "codemirror_mode": {
    "name": "ipython",
    "version": 3
   },
   "file_extension": ".py",
   "mimetype": "text/x-python",
   "name": "python",
   "nbconvert_exporter": "python",
   "pygments_lexer": "ipython3",
   "version": "3.7.9"
  },
  "papermill": {
   "default_parameters": {},
   "duration": 20.303718,
   "end_time": "2021-05-23T05:23:32.961594",
   "environment_variables": {},
   "exception": null,
   "input_path": "__notebook__.ipynb",
   "output_path": "__notebook__.ipynb",
   "parameters": {},
   "start_time": "2021-05-23T05:23:12.657876",
   "version": "2.3.2"
  }
 },
 "nbformat": 4,
 "nbformat_minor": 5
}
